{
  "nbformat": 4,
  "nbformat_minor": 0,
  "metadata": {
    "colab": {
      "provenance": []
    },
    "kernelspec": {
      "name": "python3",
      "display_name": "Python 3"
    },
    "language_info": {
      "name": "python"
    }
  },
  "cells": [
    {
      "cell_type": "markdown",
      "source": [
        "# Regresión lineal con Python"
      ],
      "metadata": {
        "id": "9uBxaoHVl-ZI"
      }
    },
    {
      "cell_type": "markdown",
      "source": [
        "## Dr. Pedro Santana\n"
      ],
      "metadata": {
        "id": "Cr0pRzGKltrY"
      }
    },
    {
      "cell_type": "markdown",
      "source": [
        "Es un método estadístico que trata de modelar la relación entre una variable dependiente y una o más variables independientes mediante el ajuste de una ecuación lineal.\n",
        "\n",
        "En la regresión lineal, el algoritmo intenta encontrar una relación lineal entre las características de entrada y el valor de salida.\n",
        "\n",
        "El valor de salida se predice en función de la suma ponderada de las características de entrada.\n",
        "\n",
        "Es ampliamente utilizado en machine learning para tareas de predicción."
      ],
      "metadata": {
        "id": "zG93xgJnmDD_"
      }
    },
    {
      "cell_type": "markdown",
      "source": [
        "## Paso: Seleccionar el algoritmo\n",
        "\n",
        "Imaginemos que queremos predecir el precio de una casa basándonos en su número de habitaciones.\n",
        "\n",
        "La **regresión lineal** nos ayudará a encontrar la \"mejor línea\" (o recta) que representa la relación entre el tamaño de la casa y su precio."
      ],
      "metadata": {
        "id": "9pjoFSNCmh2g"
      }
    },
    {
      "cell_type": "markdown",
      "source": [
        "### Parte matemática\n",
        "\n",
        "La idea detrás de la regresión lineal es encontrar la mejor línea (o hiperplano en dimensiones más altas) que se ajuste a nuestros datos. Matemáticamente, esta línea se representa como:\n",
        "\n",
        "$$y = \\beta_0 + \\beta_1 x_1 + \\epsilon$$\n",
        "\n",
        "Donde:\n",
        "- $y$ es la variable dependiente (lo que queremos predecir).\n",
        "- $x_1$ es la variable independiente.\n",
        "- $\\beta_0$ es el intercepto.\n",
        "- $\\beta_1$ es la pendiente de la línea.\n",
        "- $\\epsilon$ es el error (diferencia entre la predicción y el valor real).\n",
        "\n",
        "En términos más sencillos, si trazas la línea de regresión en un gráfico, el intercepto $\\beta_0$ es el punto donde la línea cruza el eje Y.\n",
        "\n",
        "En nuestro caso:\n",
        "\n",
        "- $y$ es el precio de la casa.\n",
        "- $x_1$ es el número de habitaciones.\n",
        "- $\\beta_0$ y $\\beta_1$ son los parámetros que nuestro modelo ha aprendido de los datos.\n",
        "\n",
        "El objetivo durante el entrenamiento es minimizar el error total (la diferencia entre las predicciones y los valores reales). Específicamente, buscamos minimizar la suma de los errores cuadrados."
      ],
      "metadata": {
        "id": "S-oBYdTMmum4"
      }
    },
    {
      "cell_type": "markdown",
      "source": [
        "> Dicho de forma sencilla: imaginemos que queremos **predecir el precio** de una  casa basándonos en su **número de habitaciones**. La regresión lineal nos ayudará a encontrar la *mejor línea* que representa la relación entre el tamaño de la casa y su precio."
      ],
      "metadata": {
        "id": "09tEG3hppPto"
      }
    },
    {
      "cell_type": "markdown",
      "source": [
        "**Ejemplo de regresión lineal con Python**\n",
        "\n",
        "Vamos a utilizar el dataset **Boston Housing**, que es un conjunto de datos ampliamente utilizado en regresión. Este dataset contiene información sobre distintas casas en Boston, incluyendo características como el número de habitaciones, la tasa de criminalidad en la zona, y el precio medio de las casas.\n",
        "\n",
        "Para nuestro ejemplo, sólo consideraremos la relación entre el número de habitaciones (*variable independiente*) y el precio medio de las casas (*variable dependiente*)."
      ],
      "metadata": {
        "id": "D1-njo0mqAOW"
      }
    },
    {
      "cell_type": "markdown",
      "source": [
        "## Paso: Entrenar\n",
        "\n",
        "1. Cargar el dataset.\n",
        "2. Dividir el dataset en conjuntos de entrenamiento y prueba.\n",
        "3. Entrenar un modelo de regresión lineal utilizando el conjunto de entrenamiento.\n",
        "4. Evaluar el modelo con el conjunto de prueba.\n",
        "5. Visualizar los resultados.\n",
        "\n",
        "### Cargar el dataset"
      ],
      "metadata": {
        "id": "eZICblsrqVqt"
      }
    },
    {
      "cell_type": "code",
      "source": [
        "import pandas as pd\n",
        "\n",
        "df = pd.read_csv('/content/drive/MyDrive/Telematica/MTD/Analitica/boston_house_prices.csv')\n",
        "\n",
        "df.head()"
      ],
      "metadata": {
        "id": "yHBMW3GfqjhN",
        "colab": {
          "base_uri": "https://localhost:8080/",
          "height": 204
        },
        "outputId": "6897474c-e30b-42f4-8356-1dcd360e9288"
      },
      "execution_count": 7,
      "outputs": [
        {
          "output_type": "execute_result",
          "data": {
            "text/plain": [
              "      CRIM    ZN  INDUS  CHAS    NOX     RM   AGE     DIS  RAD  TAX  PTRATIO  \\\n",
              "0  0.00632  18.0   2.31     0  0.538  6.575  65.2  4.0900    1  296     15.3   \n",
              "1  0.02731   0.0   7.07     0  0.469  6.421  78.9  4.9671    2  242     17.8   \n",
              "2  0.02729   0.0   7.07     0  0.469  7.185  61.1  4.9671    2  242     17.8   \n",
              "3  0.03237   0.0   2.18     0  0.458  6.998  45.8  6.0622    3  222     18.7   \n",
              "4  0.06905   0.0   2.18     0  0.458  7.147  54.2  6.0622    3  222     18.7   \n",
              "\n",
              "        B  LSTAT  MEDV  \n",
              "0  396.90   4.98  24.0  \n",
              "1  396.90   9.14  21.6  \n",
              "2  392.83   4.03  34.7  \n",
              "3  394.63   2.94  33.4  \n",
              "4  396.90   5.33  36.2  "
            ],
            "text/html": [
              "\n",
              "  <div id=\"df-e1627d20-7a96-4fb7-92d4-c1b8f2e0351b\" class=\"colab-df-container\">\n",
              "    <div>\n",
              "<style scoped>\n",
              "    .dataframe tbody tr th:only-of-type {\n",
              "        vertical-align: middle;\n",
              "    }\n",
              "\n",
              "    .dataframe tbody tr th {\n",
              "        vertical-align: top;\n",
              "    }\n",
              "\n",
              "    .dataframe thead th {\n",
              "        text-align: right;\n",
              "    }\n",
              "</style>\n",
              "<table border=\"1\" class=\"dataframe\">\n",
              "  <thead>\n",
              "    <tr style=\"text-align: right;\">\n",
              "      <th></th>\n",
              "      <th>CRIM</th>\n",
              "      <th>ZN</th>\n",
              "      <th>INDUS</th>\n",
              "      <th>CHAS</th>\n",
              "      <th>NOX</th>\n",
              "      <th>RM</th>\n",
              "      <th>AGE</th>\n",
              "      <th>DIS</th>\n",
              "      <th>RAD</th>\n",
              "      <th>TAX</th>\n",
              "      <th>PTRATIO</th>\n",
              "      <th>B</th>\n",
              "      <th>LSTAT</th>\n",
              "      <th>MEDV</th>\n",
              "    </tr>\n",
              "  </thead>\n",
              "  <tbody>\n",
              "    <tr>\n",
              "      <th>0</th>\n",
              "      <td>0.00632</td>\n",
              "      <td>18.0</td>\n",
              "      <td>2.31</td>\n",
              "      <td>0</td>\n",
              "      <td>0.538</td>\n",
              "      <td>6.575</td>\n",
              "      <td>65.2</td>\n",
              "      <td>4.0900</td>\n",
              "      <td>1</td>\n",
              "      <td>296</td>\n",
              "      <td>15.3</td>\n",
              "      <td>396.90</td>\n",
              "      <td>4.98</td>\n",
              "      <td>24.0</td>\n",
              "    </tr>\n",
              "    <tr>\n",
              "      <th>1</th>\n",
              "      <td>0.02731</td>\n",
              "      <td>0.0</td>\n",
              "      <td>7.07</td>\n",
              "      <td>0</td>\n",
              "      <td>0.469</td>\n",
              "      <td>6.421</td>\n",
              "      <td>78.9</td>\n",
              "      <td>4.9671</td>\n",
              "      <td>2</td>\n",
              "      <td>242</td>\n",
              "      <td>17.8</td>\n",
              "      <td>396.90</td>\n",
              "      <td>9.14</td>\n",
              "      <td>21.6</td>\n",
              "    </tr>\n",
              "    <tr>\n",
              "      <th>2</th>\n",
              "      <td>0.02729</td>\n",
              "      <td>0.0</td>\n",
              "      <td>7.07</td>\n",
              "      <td>0</td>\n",
              "      <td>0.469</td>\n",
              "      <td>7.185</td>\n",
              "      <td>61.1</td>\n",
              "      <td>4.9671</td>\n",
              "      <td>2</td>\n",
              "      <td>242</td>\n",
              "      <td>17.8</td>\n",
              "      <td>392.83</td>\n",
              "      <td>4.03</td>\n",
              "      <td>34.7</td>\n",
              "    </tr>\n",
              "    <tr>\n",
              "      <th>3</th>\n",
              "      <td>0.03237</td>\n",
              "      <td>0.0</td>\n",
              "      <td>2.18</td>\n",
              "      <td>0</td>\n",
              "      <td>0.458</td>\n",
              "      <td>6.998</td>\n",
              "      <td>45.8</td>\n",
              "      <td>6.0622</td>\n",
              "      <td>3</td>\n",
              "      <td>222</td>\n",
              "      <td>18.7</td>\n",
              "      <td>394.63</td>\n",
              "      <td>2.94</td>\n",
              "      <td>33.4</td>\n",
              "    </tr>\n",
              "    <tr>\n",
              "      <th>4</th>\n",
              "      <td>0.06905</td>\n",
              "      <td>0.0</td>\n",
              "      <td>2.18</td>\n",
              "      <td>0</td>\n",
              "      <td>0.458</td>\n",
              "      <td>7.147</td>\n",
              "      <td>54.2</td>\n",
              "      <td>6.0622</td>\n",
              "      <td>3</td>\n",
              "      <td>222</td>\n",
              "      <td>18.7</td>\n",
              "      <td>396.90</td>\n",
              "      <td>5.33</td>\n",
              "      <td>36.2</td>\n",
              "    </tr>\n",
              "  </tbody>\n",
              "</table>\n",
              "</div>\n",
              "    <div class=\"colab-df-buttons\">\n",
              "\n",
              "  <div class=\"colab-df-container\">\n",
              "    <button class=\"colab-df-convert\" onclick=\"convertToInteractive('df-e1627d20-7a96-4fb7-92d4-c1b8f2e0351b')\"\n",
              "            title=\"Convert this dataframe to an interactive table.\"\n",
              "            style=\"display:none;\">\n",
              "\n",
              "  <svg xmlns=\"http://www.w3.org/2000/svg\" height=\"24px\" viewBox=\"0 -960 960 960\">\n",
              "    <path d=\"M120-120v-720h720v720H120Zm60-500h600v-160H180v160Zm220 220h160v-160H400v160Zm0 220h160v-160H400v160ZM180-400h160v-160H180v160Zm440 0h160v-160H620v160ZM180-180h160v-160H180v160Zm440 0h160v-160H620v160Z\"/>\n",
              "  </svg>\n",
              "    </button>\n",
              "\n",
              "  <style>\n",
              "    .colab-df-container {\n",
              "      display:flex;\n",
              "      gap: 12px;\n",
              "    }\n",
              "\n",
              "    .colab-df-convert {\n",
              "      background-color: #E8F0FE;\n",
              "      border: none;\n",
              "      border-radius: 50%;\n",
              "      cursor: pointer;\n",
              "      display: none;\n",
              "      fill: #1967D2;\n",
              "      height: 32px;\n",
              "      padding: 0 0 0 0;\n",
              "      width: 32px;\n",
              "    }\n",
              "\n",
              "    .colab-df-convert:hover {\n",
              "      background-color: #E2EBFA;\n",
              "      box-shadow: 0px 1px 2px rgba(60, 64, 67, 0.3), 0px 1px 3px 1px rgba(60, 64, 67, 0.15);\n",
              "      fill: #174EA6;\n",
              "    }\n",
              "\n",
              "    .colab-df-buttons div {\n",
              "      margin-bottom: 4px;\n",
              "    }\n",
              "\n",
              "    [theme=dark] .colab-df-convert {\n",
              "      background-color: #3B4455;\n",
              "      fill: #D2E3FC;\n",
              "    }\n",
              "\n",
              "    [theme=dark] .colab-df-convert:hover {\n",
              "      background-color: #434B5C;\n",
              "      box-shadow: 0px 1px 3px 1px rgba(0, 0, 0, 0.15);\n",
              "      filter: drop-shadow(0px 1px 2px rgba(0, 0, 0, 0.3));\n",
              "      fill: #FFFFFF;\n",
              "    }\n",
              "  </style>\n",
              "\n",
              "    <script>\n",
              "      const buttonEl =\n",
              "        document.querySelector('#df-e1627d20-7a96-4fb7-92d4-c1b8f2e0351b button.colab-df-convert');\n",
              "      buttonEl.style.display =\n",
              "        google.colab.kernel.accessAllowed ? 'block' : 'none';\n",
              "\n",
              "      async function convertToInteractive(key) {\n",
              "        const element = document.querySelector('#df-e1627d20-7a96-4fb7-92d4-c1b8f2e0351b');\n",
              "        const dataTable =\n",
              "          await google.colab.kernel.invokeFunction('convertToInteractive',\n",
              "                                                    [key], {});\n",
              "        if (!dataTable) return;\n",
              "\n",
              "        const docLinkHtml = 'Like what you see? Visit the ' +\n",
              "          '<a target=\"_blank\" href=https://colab.research.google.com/notebooks/data_table.ipynb>data table notebook</a>'\n",
              "          + ' to learn more about interactive tables.';\n",
              "        element.innerHTML = '';\n",
              "        dataTable['output_type'] = 'display_data';\n",
              "        await google.colab.output.renderOutput(dataTable, element);\n",
              "        const docLink = document.createElement('div');\n",
              "        docLink.innerHTML = docLinkHtml;\n",
              "        element.appendChild(docLink);\n",
              "      }\n",
              "    </script>\n",
              "  </div>\n",
              "\n",
              "\n",
              "<div id=\"df-9f0d85a6-4757-44d4-9a1d-bdec8621db92\">\n",
              "  <button class=\"colab-df-quickchart\" onclick=\"quickchart('df-9f0d85a6-4757-44d4-9a1d-bdec8621db92')\"\n",
              "            title=\"Suggest charts.\"\n",
              "            style=\"display:none;\">\n",
              "\n",
              "<svg xmlns=\"http://www.w3.org/2000/svg\" height=\"24px\"viewBox=\"0 0 24 24\"\n",
              "     width=\"24px\">\n",
              "    <g>\n",
              "        <path d=\"M19 3H5c-1.1 0-2 .9-2 2v14c0 1.1.9 2 2 2h14c1.1 0 2-.9 2-2V5c0-1.1-.9-2-2-2zM9 17H7v-7h2v7zm4 0h-2V7h2v10zm4 0h-2v-4h2v4z\"/>\n",
              "    </g>\n",
              "</svg>\n",
              "  </button>\n",
              "\n",
              "<style>\n",
              "  .colab-df-quickchart {\n",
              "      --bg-color: #E8F0FE;\n",
              "      --fill-color: #1967D2;\n",
              "      --hover-bg-color: #E2EBFA;\n",
              "      --hover-fill-color: #174EA6;\n",
              "      --disabled-fill-color: #AAA;\n",
              "      --disabled-bg-color: #DDD;\n",
              "  }\n",
              "\n",
              "  [theme=dark] .colab-df-quickchart {\n",
              "      --bg-color: #3B4455;\n",
              "      --fill-color: #D2E3FC;\n",
              "      --hover-bg-color: #434B5C;\n",
              "      --hover-fill-color: #FFFFFF;\n",
              "      --disabled-bg-color: #3B4455;\n",
              "      --disabled-fill-color: #666;\n",
              "  }\n",
              "\n",
              "  .colab-df-quickchart {\n",
              "    background-color: var(--bg-color);\n",
              "    border: none;\n",
              "    border-radius: 50%;\n",
              "    cursor: pointer;\n",
              "    display: none;\n",
              "    fill: var(--fill-color);\n",
              "    height: 32px;\n",
              "    padding: 0;\n",
              "    width: 32px;\n",
              "  }\n",
              "\n",
              "  .colab-df-quickchart:hover {\n",
              "    background-color: var(--hover-bg-color);\n",
              "    box-shadow: 0 1px 2px rgba(60, 64, 67, 0.3), 0 1px 3px 1px rgba(60, 64, 67, 0.15);\n",
              "    fill: var(--button-hover-fill-color);\n",
              "  }\n",
              "\n",
              "  .colab-df-quickchart-complete:disabled,\n",
              "  .colab-df-quickchart-complete:disabled:hover {\n",
              "    background-color: var(--disabled-bg-color);\n",
              "    fill: var(--disabled-fill-color);\n",
              "    box-shadow: none;\n",
              "  }\n",
              "\n",
              "  .colab-df-spinner {\n",
              "    border: 2px solid var(--fill-color);\n",
              "    border-color: transparent;\n",
              "    border-bottom-color: var(--fill-color);\n",
              "    animation:\n",
              "      spin 1s steps(1) infinite;\n",
              "  }\n",
              "\n",
              "  @keyframes spin {\n",
              "    0% {\n",
              "      border-color: transparent;\n",
              "      border-bottom-color: var(--fill-color);\n",
              "      border-left-color: var(--fill-color);\n",
              "    }\n",
              "    20% {\n",
              "      border-color: transparent;\n",
              "      border-left-color: var(--fill-color);\n",
              "      border-top-color: var(--fill-color);\n",
              "    }\n",
              "    30% {\n",
              "      border-color: transparent;\n",
              "      border-left-color: var(--fill-color);\n",
              "      border-top-color: var(--fill-color);\n",
              "      border-right-color: var(--fill-color);\n",
              "    }\n",
              "    40% {\n",
              "      border-color: transparent;\n",
              "      border-right-color: var(--fill-color);\n",
              "      border-top-color: var(--fill-color);\n",
              "    }\n",
              "    60% {\n",
              "      border-color: transparent;\n",
              "      border-right-color: var(--fill-color);\n",
              "    }\n",
              "    80% {\n",
              "      border-color: transparent;\n",
              "      border-right-color: var(--fill-color);\n",
              "      border-bottom-color: var(--fill-color);\n",
              "    }\n",
              "    90% {\n",
              "      border-color: transparent;\n",
              "      border-bottom-color: var(--fill-color);\n",
              "    }\n",
              "  }\n",
              "</style>\n",
              "\n",
              "  <script>\n",
              "    async function quickchart(key) {\n",
              "      const quickchartButtonEl =\n",
              "        document.querySelector('#' + key + ' button');\n",
              "      quickchartButtonEl.disabled = true;  // To prevent multiple clicks.\n",
              "      quickchartButtonEl.classList.add('colab-df-spinner');\n",
              "      try {\n",
              "        const charts = await google.colab.kernel.invokeFunction(\n",
              "            'suggestCharts', [key], {});\n",
              "      } catch (error) {\n",
              "        console.error('Error during call to suggestCharts:', error);\n",
              "      }\n",
              "      quickchartButtonEl.classList.remove('colab-df-spinner');\n",
              "      quickchartButtonEl.classList.add('colab-df-quickchart-complete');\n",
              "    }\n",
              "    (() => {\n",
              "      let quickchartButtonEl =\n",
              "        document.querySelector('#df-9f0d85a6-4757-44d4-9a1d-bdec8621db92 button');\n",
              "      quickchartButtonEl.style.display =\n",
              "        google.colab.kernel.accessAllowed ? 'block' : 'none';\n",
              "    })();\n",
              "  </script>\n",
              "</div>\n",
              "    </div>\n",
              "  </div>\n"
            ]
          },
          "metadata": {},
          "execution_count": 7
        }
      ]
    },
    {
      "cell_type": "markdown",
      "source": [
        "### Estructura de los datos\n",
        "\n",
        "- **CRIM**: Tasa de criminalidad per cápita por ciudad.\n",
        "- **ZN**: Proporción de tierra residencial dividida en zonas para lotes de más de 25,000 pies cuadrados.\n",
        "- **INDUS**: Proporción de acres de negocios no minoristas por ciudad.\n",
        "- **CHAS**: Variable ficticia de Charles River (= 1 si el tramo limita con el río; 0 en caso contrario).\n",
        "- **RM**: Número medio de habitaciones por vivienda.\n",
        "- **AGE**: Proporción de viviendas ocupadas por sus propietarios construidas antes de 1940.\n",
        "- **DIS**: Distancias ponderadas a cinco centros de empleo de Boston.\n",
        "- **RAD**: Índice de accesibilidad a carreteras radiales.\n",
        "- **TAX**: Tasa de impuesto a la propiedad por cada \\$10,000.\n",
        "- **PTRATIO**: Relación alumno-profesor por ciudad.\n",
        "- **B**: Proporción de personas de ascendencia afroamericana por ciudad.\n",
        "- **LSTAT**: Porcentaje de población con un estatus socioeconómico bajo.\n",
        "- **MEDV**: Precio medio de las viviendas ocupadas por sus propietarios en $1000s.\n",
        "\n",
        "Para nuestro ejemplo, nos centraremos en **RM** (número medio de habitaciones) y **MEDV** (precio medio de las casas).\n",
        "\n",
        "### Dividir el dataset"
      ],
      "metadata": {
        "id": "CwIKdzmGtqcr"
      }
    },
    {
      "cell_type": "code",
      "source": [
        "from sklearn.model_selection import train_test_split\n",
        "\n",
        "# Seleccionar las columnas de interés\n",
        "X = df[['RM']]\n",
        "y = df['MEDV']\n",
        "\n",
        "# Dividir el dataset en conjunto de entrenamiento y prueba (80% entrenamiento, 20% prueba)\n",
        "X_train, X_test, y_train, y_test = train_test_split(X, y, test_size=0.2, random_state=42)\n",
        "\n",
        "X_train.shape, X_test.shape, y_train.shape, y_test.shape"
      ],
      "metadata": {
        "id": "sSDA6-95uK_R",
        "colab": {
          "base_uri": "https://localhost:8080/"
        },
        "outputId": "a19d3db7-67c0-4f50-9f4c-45f248b9de04"
      },
      "execution_count": 8,
      "outputs": [
        {
          "output_type": "execute_result",
          "data": {
            "text/plain": [
              "((404, 1), (102, 1), (404,), (102,))"
            ]
          },
          "metadata": {},
          "execution_count": 8
        }
      ]
    },
    {
      "cell_type": "markdown",
      "source": [
        "Se dividió el dataset en dos partes:\n",
        "\n",
        "    Conjunto de entrenamiento: 404 registros.\n",
        "    Conjunto de prueba: 102 registros.\n",
        "\n",
        "El conjunto de entrenamiento se utilizará para entrenar el modelo de regresión lineal, mientras que el conjunto de prueba se utilizará para evaluar su rendimiento.\n",
        "\n",
        "### Entrenar el modelo"
      ],
      "metadata": {
        "id": "DMf0pzwcul8y"
      }
    },
    {
      "cell_type": "code",
      "source": [
        "from sklearn.linear_model import LinearRegression\n",
        "\n",
        "# Crear y entrenar el modelo de regresión lineal\n",
        "model = LinearRegression()\n",
        "model.fit(X_train, y_train)\n",
        "\n",
        "# Realizar predicciones\n",
        "y_train_pred = model.predict(X_train) # entrenamiento\n",
        "y_test_pred = model.predict(X_test) # prueba"
      ],
      "metadata": {
        "id": "dY4IGcavvBf5"
      },
      "execution_count": 9,
      "outputs": []
    },
    {
      "cell_type": "markdown",
      "source": [
        "## Visualizar los resultados\n",
        "\n",
        "*   Los puntos azules representan los datos de entrenamiento.\n",
        "*   Los puntos rojos representan los datos de prueba.\n",
        "*   La línea negra es la línea de regresión que nuestro modelo ha aprendido.\n",
        "\n",
        "La línea de regresión intenta ajustarse lo mejor posible a los datos. A partir de esta línea, podemos hacer predicciones sobre el precio de una casa basándonos en su número de habitaciones. Por ejemplo, una casa con un mayor número de habitaciones tiende a tener un precio más alto, **según indica la pendiente de la línea**.\n",
        "\n",
        "A través de este modelo, podemos hacer predicciones sobre el precio de una casa basándonos en su número de habitaciones. Es importante mencionar que, en la vida real, el precio de una casa está influenciado por muchos otros factores, y no solo por el número de habitaciones. Sin embargo, este ejemplo sirve para ilustrar el concepto básico de regresión lineal en machine learning."
      ],
      "metadata": {
        "id": "9Lv1zrGPy-Ww"
      }
    },
    {
      "cell_type": "code",
      "source": [
        "import matplotlib.pyplot as plt\n",
        "\n",
        "# Visualizar los resultados\n",
        "plt.figure(figsize=(10, 6))\n",
        "plt.scatter(X_train, y_train, color='blue', label=\"Datos de entrenamiento\")\n",
        "plt.scatter(X_test, y_test, color='red', label=\"Datos de prueba\")\n",
        "plt.plot(X_train, y_train_pred, color='black', linewidth=2, label=\"Regresión lineal\")\n",
        "plt.title(\"Relación entre número de habitaciones y precio\")\n",
        "plt.xlabel(\"Número de habitaciones\")\n",
        "plt.ylabel(\"Precio ($1000s)\")\n",
        "plt.legend()\n",
        "plt.grid(True)\n",
        "plt.show()"
      ],
      "metadata": {
        "id": "DY44lQYFzlBX",
        "colab": {
          "base_uri": "https://localhost:8080/",
          "height": 565
        },
        "outputId": "5661f672-f7d8-4ec1-94c5-d51521627378"
      },
      "execution_count": 10,
      "outputs": [
        {
          "output_type": "display_data",
          "data": {
            "text/plain": [
              "<Figure size 1000x600 with 1 Axes>"
            ],
            "image/png": "[encoded data removed]"
          },
          "metadata": {}
        }
      ]
    },
    {
      "cell_type": "markdown",
      "source": [
        "## Evaluar el modelo\n",
        "\n",
        "1. Error Cuadrático Medio ($MSE$)\n",
        "2. Coeficiente de determinación ($R^2$)"
      ],
      "metadata": {
        "id": "-1bpCRMTvsHx"
      }
    },
    {
      "cell_type": "markdown",
      "source": [
        "### Error Cuadrático Medio ($MSE$):\n",
        "\n",
        "Es una métrica que nos indica cuán alejadas están nuestras predicciones de los valores reales. Se calcula como el promedio de los errores cuadrados:\n",
        "\n",
        "$MSE = \\frac{1}{n} \\sum_{i=1}^{n} (y_i - \\hat{y}_i)^2$\n",
        "\n",
        "Donde:\n",
        "- $y_i$ es el valor real.\n",
        "- $\\hat{y}_i$ es la predicción.\n",
        "- $n$ es el número total de ejemplos.\n",
        "\n",
        "Un MSE más bajo indica que el modelo se ajusta mejor a los datos. Sin embargo, debemos tener cuidado de no sobreajustar el modelo a los datos de entrenamiento, ya que esto puede llevar a un rendimiento deficiente en datos no vistos previamente."
      ],
      "metadata": {
        "id": "DqJ9FxBKwXDk"
      }
    },
    {
      "cell_type": "code",
      "source": [
        "from sklearn.metrics import mean_squared_error\n",
        "\n",
        "# Calcular el error cuadrático medio (MSE)\n",
        "mse_train = mean_squared_error(y_train, y_train_pred)\n",
        "mse_test = mean_squared_error(y_test, y_test_pred)\n",
        "\n",
        "mse_train, mse_test"
      ],
      "metadata": {
        "colab": {
          "base_uri": "https://localhost:8080/"
        },
        "id": "_5AqEf5jCmJ9",
        "outputId": "2cddce63-9718-4283-de5e-ff05763ec916"
      },
      "execution_count": 11,
      "outputs": [
        {
          "output_type": "execute_result",
          "data": {
            "text/plain": [
              "(42.99661556265404, 46.144775347317264)"
            ]
          },
          "metadata": {},
          "execution_count": 11
        }
      ]
    },
    {
      "cell_type": "markdown",
      "source": [
        "### $MSE$ resultado del entrenamiento\n",
        "\n",
        "A continuación, se muestran los errores cuadráticos medios ($MSE$) para ambos conjuntos:\n",
        "\n",
        "*   Error cuadrático medio en el conjunto de entrenamiento: **42.99**\n",
        "*   Error cuadrático medio en el conjunto de prueba: **46.14**\n",
        "\n",
        "El error cuadrático medio ($MSE$) mide la cantidad de error que hay entre dos conjuntos de datos, en este caso, entre los valores reales y las predicciones. En general, ***un MSE más bajo*** indica que el modelo tiene un mejor rendimiento."
      ],
      "metadata": {
        "id": "foqLo-LJxDIY"
      }
    },
    {
      "cell_type": "markdown",
      "source": [
        "### Coeficiente de determinación ($R^2$)\n",
        "\n",
        "Es una medida de cuánta variación en la variable dependiente es explicada por el modelo. Su valor varía entre 0 y 1, siendo 1 una predicción perfecta y 0 indicando que el modelo no es mejor que simplemente tomar el promedio de la variable de respuesta. Es una métrica útil para determinar qué tan bien se ajusta el modelo a los datos observados.\n",
        "\n",
        "$$R^2 = 1 - \\frac{\\text{MSE del modelo}}{\\text{MSE del modelo nulo}}$$\n",
        "\n",
        "Donde el modelo nulo es un modelo que siempre predice el promedio de la variable de respuesta, sin tener en cuenta las características."
      ],
      "metadata": {
        "id": "E1cFX1YKxwAA"
      }
    },
    {
      "cell_type": "code",
      "source": [
        "from sklearn.metrics import r2_score\n",
        "\n",
        "# Calcular el coeficiente de determinación (R^2)\n",
        "r2_train = r2_score(y_train, y_train_pred)\n",
        "r2_test = r2_score(y_test, y_test_pred)\n",
        "\n",
        "r2_train, r2_test"
      ],
      "metadata": {
        "colab": {
          "base_uri": "https://localhost:8080/"
        },
        "id": "S3Q9Pj7XD2sy",
        "outputId": "c6e4b76c-044f-4708-eb40-35f2a915b39e"
      },
      "execution_count": 12,
      "outputs": [
        {
          "output_type": "execute_result",
          "data": {
            "text/plain": [
              "(0.5050658352776293, 0.3707569232254778)"
            ]
          },
          "metadata": {},
          "execution_count": 12
        }
      ]
    },
    {
      "cell_type": "markdown",
      "source": [
        "El coeficiente de determinación $R^2$ para nuestro modelo es:\n",
        "\n",
        "- $R^2$ en el conjunto de entrenamiento: **0.5051**\n",
        "- $R^2$ en el conjunto de prueba: **0.3708**\n",
        "\n",
        "Esto significa que:\n",
        "\n",
        "- Nuestro modelo explica aproximadamente el **50.51 %** de la variabilidad en el precio de las casas en el conjunto de entrenamiento.\n",
        "- Nuestro modelo explica aproximadamente el **37.08 %** de la variabilidad en el precio de las casas en el conjunto de prueba.\n",
        "\n",
        "Un $R^2$ de 1 indicaría que el modelo explica toda la variabilidad en el precio de las casas, mientras que un $R^2$ de 0 indicaría que el modelo no explica ninguna variabilidad.\n",
        "\n",
        "Por lo tanto, los valores obtenidos sugieren que el modelo tiene un ajuste no muy adecuado a los datos, por lo que hay espacio para mejorar, una forma de hacerlo es analizando lass características."
      ],
      "metadata": {
        "id": "0zJzkWX8yFpf"
      }
    },
    {
      "cell_type": "markdown",
      "source": [
        "## Identificación de caracetrísticas\n",
        "\n",
        "La identificación de características (**feature selection**) es el proceso de seleccionar un subconjunto de características relevantes para la construcción de modelos, *eliminando aquellas que no aportan mucha información* o que pueden ser redundantes. Esto puede mejorar el desempeño del modelo, reducir la complejidad y aumentar la velocidad de entrenamiento."
      ],
      "metadata": {
        "id": "ZxqnC2Faz_U6"
      }
    },
    {
      "cell_type": "code",
      "source": [
        "from sklearn.feature_selection import RFE\n",
        "\n",
        "# Utilizar RFE con un modelo de regresión lineal\n",
        "estimator = LinearRegression()\n",
        "# Seleccionar las 5 características más importantes\n",
        "selector = RFE(estimator, n_features_to_select=5, step=1)\n",
        "selector = selector.fit(df.drop(\"MEDV\", axis=1), df[\"MEDV\"])\n",
        "\n",
        "# Obtener las características seleccionadas\n",
        "selected_features = df.columns[:-1][selector.support_]\n",
        "selected_features"
      ],
      "metadata": {
        "id": "NhFhTvH51qmy",
        "colab": {
          "base_uri": "https://localhost:8080/"
        },
        "outputId": "cf1740e2-28e2-4c12-eab0-c3887f9a3aff"
      },
      "execution_count": 13,
      "outputs": [
        {
          "output_type": "execute_result",
          "data": {
            "text/plain": [
              "Index(['CHAS', 'NOX', 'RM', 'DIS', 'PTRATIO'], dtype='object')"
            ]
          },
          "metadata": {},
          "execution_count": 13
        }
      ]
    },
    {
      "cell_type": "markdown",
      "source": [
        "### Resultados RFE\n",
        "\n",
        "Tras aplicar el método de Eliminación Recursiva de Características (RFE) con un modelo de regresión lineal, las 5 características más relevantes identificadas en el dataset **Boston Housing** son:\n",
        "\n",
        "1. `CHAS`: Variable dummy de Charles River (1 si la propiedad limita con el río; 0 en caso contrario).\n",
        "2. `NOX`: Concentración de óxidos nítricos (partes por 10 millones).\n",
        "3. `RM`: Número medio de habitaciones por vivienda.\n",
        "4. `DIS`: Ponderación de las distancias a cinco centros de empleo de Boston.\n",
        "5. `PTRATIO`: Proporción alumno-profesor por localidad.\n",
        "\n",
        "Estas características se consideran las más influyentes en la predicción del precio de las viviendas según el método RFE con un modelo de regresión lineal."
      ],
      "metadata": {
        "id": "D2nuZLX81sjm"
      }
    },
    {
      "cell_type": "markdown",
      "source": [
        "### Re-entrenar con las características seleccionadas"
      ],
      "metadata": {
        "id": "K-VIlZzI2DGO"
      }
    },
    {
      "cell_type": "code",
      "source": [
        "from sklearn.metrics import r2_score\n",
        "\n",
        "# Seleccionar las características identificadas por RFE\n",
        "X_selected = df[selected_features]\n",
        "\n",
        "# Dividir el dataset con las características seleccionadas en conjunto de entrenamiento y prueba\n",
        "X_train_selected, X_test_selected = train_test_split(X_selected, test_size=0.2, random_state=42)\n",
        "\n",
        "# Crear y entrenar el modelo de regresión lineal con las características seleccionadas\n",
        "model_selected = LinearRegression()\n",
        "model_selected.fit(X_train_selected, y_train)\n",
        "\n",
        "# Realizar predicciones en el conjunto de entrenamiento y de prueba\n",
        "y_train_pred_selected = model_selected.predict(X_train_selected)\n",
        "y_test_pred_selected = model_selected.predict(X_test_selected)\n",
        "\n",
        "# Calcular el error cuadrático medio (MSE) y el coeficiente de determinación (R^2) para el entrenamiento y prueba\n",
        "mse_train_selected = mean_squared_error(y_train, y_train_pred_selected)\n",
        "mse_test_selected = mean_squared_error(y_test, y_test_pred_selected)\n",
        "\n",
        "r2_train_selected = r2_score(y_train, y_train_pred_selected)\n",
        "r2_test_selected = r2_score(y_test, y_test_pred_selected)\n",
        "\n",
        "mse_train_selected, mse_test_selected, r2_train_selected, r2_test_selected"
      ],
      "metadata": {
        "id": "lawODgEZ2H8Y",
        "colab": {
          "base_uri": "https://localhost:8080/"
        },
        "outputId": "5f937d59-4f57-4d20-f655-e1586364d852"
      },
      "execution_count": 14,
      "outputs": [
        {
          "output_type": "execute_result",
          "data": {
            "text/plain": [
              "(30.37937073761937, 33.49662524091357, 0.6503029765469577, 0.543230639449175)"
            ]
          },
          "metadata": {},
          "execution_count": 14
        }
      ]
    },
    {
      "cell_type": "markdown",
      "source": [
        "### Resultados del *Feature selection*\n",
        "\n",
        "**Error Cuadrático Medio ($MSE$):**\n",
        "- Conjunto de entrenamiento: ***30.38***\n",
        "- Conjunto de prueba: ***33.50***\n",
        "\n",
        "**Coeficiente de Determinación ($R^2$):**\n",
        "- Conjunto de entrenamiento: ***0.6503***\n",
        "- Conjunto de prueba: ***0.5432***"
      ],
      "metadata": {
        "id": "zy9T6t8g2pC9"
      }
    },
    {
      "cell_type": "markdown",
      "source": [
        "### Interpretación\n",
        "\n",
        "Comparando con los resultados del modelo original:\n",
        "\n",
        "- El MSE ha disminuido para ambos conjuntos, lo que indica un mejor ajuste.\n",
        "- El coeficiente $R^2$ ha aumentado para ambos conjuntos, lo que indica que el modelo con las características seleccionadas explica una mayor proporción de la variabilidad en el precio de las casas.\n",
        "\n",
        "Para concluir, la identificación y selección de características **ha mejorado el desempeño** de nuestro modelo. Estos resultados demuestran **la importancia de seleccionar características relevantes** para mejorar la precisión y la eficiencia del modelo."
      ],
      "metadata": {
        "id": "afLsUErP3YRt"
      }
    }
  ]
}
