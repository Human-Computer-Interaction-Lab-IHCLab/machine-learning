{
  "nbformat": 4,
  "nbformat_minor": 0,
  "metadata": {
    "colab": {
      "provenance": []
    },
    "kernelspec": {
      "name": "python3",
      "display_name": "Python 3"
    },
    "language_info": {
      "name": "python"
    }
  },
  "cells": [
    {
      "cell_type": "markdown",
      "source": [
        "# Análisis de sentimientos\n",
        "\n",
        "Usando **VADER** (Valence Aware Dictionary and sEntiment Reasoner).\n",
        "\n",
        "Los resultados son un diccionario con cuatro valores: **neg** para negativo, **neu** para neutro, **pos** para positivo, y **compound** que es una puntuación compuesta que combina los otros tres puntajes."
      ],
      "metadata": {
        "id": "h7f4JenmYd1B"
      }
    },
    {
      "cell_type": "code",
      "execution_count": 1,
      "metadata": {
        "colab": {
          "base_uri": "https://localhost:8080/"
        },
        "id": "f2R9MYmUWiZS",
        "outputId": "a9d1eb43-60c0-44aa-d109-15a0fbdcaf57"
      },
      "outputs": [
        {
          "output_type": "stream",
          "name": "stdout",
          "text": [
            "{'neg': 0.0, 'neu': 1.0, 'pos': 0.0, 'compound': 0.0}\n"
          ]
        },
        {
          "output_type": "stream",
          "name": "stderr",
          "text": [
            "[nltk_data] Downloading package vader_lexicon to /root/nltk_data...\n"
          ]
        }
      ],
      "source": [
        "import nltk\n",
        "from nltk.sentiment import SentimentIntensityAnalyzer\n",
        "\n",
        "nltk.download('vader_lexicon')\n",
        "\n",
        "sia = SentimentIntensityAnalyzer()\n",
        "texto = \"NLTK is a leading platform for building Python programs that work with human language data.\"\n",
        "valor_sentimiento = sia.polarity_scores(texto)\n",
        "\n",
        "print(valor_sentimiento)\n"
      ]
    },
    {
      "cell_type": "code",
      "source": [
        "texto = \"Wow, NLTK is really powerful!\"\n",
        "valor_sentimiento = sia.polarity_scores(texto)\n",
        "print(valor_sentimiento)\n"
      ],
      "metadata": {
        "colab": {
          "base_uri": "https://localhost:8080/"
        },
        "id": "m6fwHR1tXCm0",
        "outputId": "920585d5-7304-4a54-a740-be931585cea7"
      },
      "execution_count": 2,
      "outputs": [
        {
          "output_type": "stream",
          "name": "stdout",
          "text": [
            "{'neg': 0.0, 'neu': 0.295, 'pos': 0.705, 'compound': 0.8012}\n"
          ]
        }
      ]
    },
    {
      "cell_type": "markdown",
      "source": [
        "## Visualización"
      ],
      "metadata": {
        "id": "98_zVezsZozx"
      }
    },
    {
      "cell_type": "code",
      "source": [
        "import matplotlib.pyplot as plt\n",
        "from nltk.sentiment import SentimentIntensityAnalyzer\n",
        "import nltk\n",
        "nltk.download('vader_lexicon')\n",
        "\n",
        "sia = SentimentIntensityAnalyzer()\n",
        "\n",
        "textos = [\n",
        "    \"NLTK is a leading platform for building Python programs that work with human language data.\",\n",
        "    \"Wow, NLTK is really powerful!\"\n",
        "]\n",
        "\n",
        "sentimientos = [sia.polarity_scores(texto) for texto in textos]\n",
        "negativos = [s['neg'] for s in sentimientos]\n",
        "neutros = [s['neu'] for s in sentimientos]\n",
        "positivos = [s['pos'] for s in sentimientos]\n",
        "compuestos = [s['compound'] for s in sentimientos]\n",
        "\n",
        "etiquetas = ['Texto 1', 'Texto 2']\n",
        "barWidth = 0.2\n",
        "r1 = range(len(compuestos))\n",
        "r2 = [x + barWidth for x in r1]\n",
        "r3 = [x + barWidth for x in r2]\n",
        "r4 = [x + barWidth for x in r3]\n",
        "plt.bar(r1, negativos, color='red', width=barWidth, label='Neg')\n",
        "plt.bar(r2, neutros, color='grey', width=barWidth, label='Neu')\n",
        "plt.bar(r3, positivos, color='green', width=barWidth, label='Pos')\n",
        "plt.bar(r4, compuestos, color='blue', width=barWidth, label='Compound')\n",
        "plt.xlabel('Textos', fontweight='bold')\n",
        "plt.xticks([r + barWidth for r in range(len(compuestos))], etiquetas)\n",
        "plt.ylabel('Puntaje')\n",
        "plt.title('Análisis de Sentimientos')\n",
        "plt.legend()\n",
        "\n",
        "# Mostrar la gráfica\n",
        "plt.show()"
      ],
      "metadata": {
        "colab": {
          "base_uri": "https://localhost:8080/",
          "height": 506
        },
        "id": "gU786kl-Zq8t",
        "outputId": "a0206b8e-3e60-4a79-83b8-837984a0b033"
      },
      "execution_count": 3,
      "outputs": [
        {
          "output_type": "stream",
          "name": "stderr",
          "text": [
            "[nltk_data] Downloading package vader_lexicon to /root/nltk_data...\n",
            "[nltk_data]   Package vader_lexicon is already up-to-date!\n"
          ]
        },
        {
          "output_type": "display_data",
          "data": {
            "text/plain": [
              "<Figure size 640x480 with 1 Axes>"
            ],
            "image/png": "[encoded data removed]"
          },
          "metadata": {}
        }
      ]
    },
    {
      "cell_type": "markdown",
      "source": [
        "## Tweets"
      ],
      "metadata": {
        "id": "JknRJthcdkDz"
      }
    },
    {
      "cell_type": "code",
      "source": [
        "import nltk\n",
        "nltk.download('twitter_samples')\n",
        "\n",
        "tweets = [t.replace(\"://\", \"//\") for t in nltk.corpus.twitter_samples.strings()]\n",
        "\n",
        "def es_positive(tweet: str) -> bool:\n",
        "    return sia.polarity_scores(tweet)[\"compound\"] > 0\n",
        "\n",
        "for tweet in tweets[:10]:\n",
        "    print(\">\", es_positive(tweet), tweet)"
      ],
      "metadata": {
        "colab": {
          "base_uri": "https://localhost:8080/"
        },
        "id": "MEmdZG_CcgRj",
        "outputId": "a5f06439-9078-46e9-c5f2-17fd971b2982"
      },
      "execution_count": 4,
      "outputs": [
        {
          "output_type": "stream",
          "name": "stderr",
          "text": [
            "[nltk_data] Downloading package twitter_samples to /root/nltk_data...\n",
            "[nltk_data]   Unzipping corpora/twitter_samples.zip.\n"
          ]
        },
        {
          "output_type": "stream",
          "name": "stdout",
          "text": [
            "> False hopeless for tmr :(\n",
            "> False Everything in the kids section of IKEA is so cute. Shame I'm nearly 19 in 2 months :(\n",
            "> False @Hegelbon That heart sliding into the waste basket. :(\n",
            "> False “@ketchBurning: I hate Japanese call him \"bani\" :( :(”\n",
            "\n",
            "Me too\n",
            "> False Dang starting next week I have \"work\" :(\n",
            "> False oh god, my babies' faces :( https//t.co/9fcwGvaki0\n",
            "> True @RileyMcDonough make me smile :((\n",
            "> False @f0ggstar @stuartthull work neighbour on motors. Asked why and he said hates the updates on search :( http//t.co/XvmTUikWln\n",
            "> False why?:(\"@tahuodyy: sialan:( https//t.co/Hv1i0xcrL2\"\n",
            "> False Athabasca glacier was there in #1948 :-( #athabasca #glacier #jasper #jaspernationalpark #alberta #explorealberta #… http//t.co/dZZdqmf7Cz\n"
          ]
        }
      ]
    },
    {
      "cell_type": "code",
      "source": [
        "import nltk\n",
        "\n",
        "import matplotlib.pyplot as plt\n",
        "\n",
        "tweets = [t.replace(\"://\", \"//\") for t in nltk.corpus.twitter_samples.strings()]\n",
        "\n",
        "def es_positivo(tweet: str) -> bool:\n",
        "    return sia.polarity_scores(tweet)[\"compound\"] > 0\n",
        "\n",
        "resultados = {\"Positivos\": 0, \"Negativos\": 0}\n",
        "for tweet in tweets[:10]:\n",
        "    if es_positivo(tweet):\n",
        "        resultados[\"Positivos\"] += 1\n",
        "    else:\n",
        "        resultados[\"Negativos\"] += 1\n",
        "\n",
        "etiquetas = list(resultados.keys())\n",
        "conteos = list(resultados.values())\n",
        "plt.bar(etiquetas, conteos, color=['green', 'red'])\n",
        "plt.title('Análisis de sentimientos de Tweets')\n",
        "plt.xlabel('Sentimiento')\n",
        "plt.ylabel('Cantidad de Tweets')\n",
        "plt.show()\n"
      ],
      "metadata": {
        "colab": {
          "base_uri": "https://localhost:8080/",
          "height": 472
        },
        "id": "euT_Dz6qdZqc",
        "outputId": "8bb34ec8-ad7b-4a80-b0bc-debbab2944e4"
      },
      "execution_count": 5,
      "outputs": [
        {
          "output_type": "display_data",
          "data": {
            "text/plain": [
              "<Figure size 640x480 with 1 Axes>"
            ],
            "image/png": "[encoded data removed]"
          },
          "metadata": {}
        }
      ]
    }
  ]
}