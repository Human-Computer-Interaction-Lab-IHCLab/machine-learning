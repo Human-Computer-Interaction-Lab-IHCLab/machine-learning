{
  "cells": [
    {
      "cell_type": "markdown",
      "metadata": {
        "id": "i6Jy_B0hXhCV"
      },
      "source": [
        "# Introducción al Procesamiento de Lenguaje Natural"
      ]
    },
    {
      "cell_type": "markdown",
      "metadata": {
        "id": "jCkf37wGXrKo"
      },
      "source": [
        "## Identificar el texto a analizar\n",
        "\n",
        "¡Hola, mundo de la PNL! En este ejemplo, vamos a desarrollar los conceptos básicos del procesamiento de texto que se utilizarán más adelante."
      ]
    },
    {
      "cell_type": "markdown",
      "metadata": {
        "id": "Mbb2TKhMYIA6"
      },
      "source": [
        "## Preprocesar el texto para el análisis\n",
        "\n",
        "Implica limpiar y preprocesar los datos para prepararlos para el análisis.\n",
        "\n",
        "Los pasos incluyen:\n",
        "\n",
        "### Segmentación de oraciones\n",
        "\n",
        "Es el proceso de dividir un texto en oraciones individuales. Conocido en inglés como `tokenizing by sentence`"
      ]
    },
    {
      "cell_type": "code",
      "execution_count": 1,
      "metadata": {
        "colab": {
          "base_uri": "https://localhost:8080/"
        },
        "id": "XFojgTTdXdg_",
        "outputId": "8470b43d-766e-43fc-b43d-a04453b738b4"
      },
      "outputs": [
        {
          "output_type": "stream",
          "name": "stderr",
          "text": [
            "[nltk_data] Downloading package punkt to /root/nltk_data...\n",
            "[nltk_data]   Unzipping tokenizers/punkt.zip.\n"
          ]
        },
        {
          "output_type": "stream",
          "name": "stdout",
          "text": [
            "['¡Hola, mundo del PLN!', 'En este ejemplo, vamos a desarrollar los conceptos básicos del procesamiento de texto que se utilizarán más adelante.']\n"
          ]
        }
      ],
      "source": [
        "import nltk\n",
        "nltk.download('punkt') # Modelo ML no supervisado\n",
        "\n",
        "texto = \"¡Hola, mundo del PLN! En este ejemplo, vamos a desarrollar los conceptos básicos del procesamiento de texto que se utilizarán más adelante.\"\n",
        "\n",
        "oraciones = nltk.sent_tokenize(texto)\n",
        "\n",
        "print(oraciones)"
      ]
    },
    {
      "cell_type": "markdown",
      "metadata": {
        "id": "1U6ysx5-ZP1I"
      },
      "source": [
        "### Eliminación de caracteres no deseados, puntuaciones, símbolos, etc."
      ]
    },
    {
      "cell_type": "code",
      "execution_count": 2,
      "metadata": {
        "colab": {
          "base_uri": "https://localhost:8080/"
        },
        "id": "m9nXHPVCZ5Wu",
        "outputId": "caac5b92-1bc6-43cb-eedd-73775f8863a2"
      },
      "outputs": [
        {
          "output_type": "stream",
          "name": "stdout",
          "text": [
            "¡Hola mundo del PLN En este ejemplo vamos a desarrollar los conceptos básicos del procesamiento de texto que se utilizarán más adelante\n"
          ]
        }
      ],
      "source": [
        "import string\n",
        "\n",
        "def eliminar_puntuaciones(str_entrada):\n",
        "    simbolos = string.punctuation\n",
        "    return \"\".join(char for char in str_entrada if char not in simbolos)\n",
        "\n",
        "texto_limpio = eliminar_puntuaciones(texto)\n",
        "print(texto_limpio)"
      ]
    },
    {
      "cell_type": "markdown",
      "metadata": {
        "id": "XefE-l26bc-y"
      },
      "source": [
        "Agregar configuraciones regionales."
      ]
    },
    {
      "cell_type": "code",
      "execution_count": 3,
      "metadata": {
        "colab": {
          "base_uri": "https://localhost:8080/"
        },
        "id": "lIEoPAFEbgLK",
        "outputId": "6cc9dc4c-3799-407c-adb7-0edf44036dce"
      },
      "outputs": [
        {
          "output_type": "stream",
          "name": "stdout",
          "text": [
            "Hola mundo del PLN En este ejemplo vamos a desarrollar los conceptos básicos del procesamiento de texto que se utilizarán más adelante\n"
          ]
        }
      ],
      "source": [
        "def eliminar_en_espanol(str_entrada):\n",
        "    simbolos_espanol = string.punctuation + \"¡\" + \"¿\"\n",
        "    return \"\".join(char for char in str_entrada if char not in simbolos_espanol)\n",
        "\n",
        "texto_limpio = eliminar_en_espanol(texto)\n",
        "print(texto_limpio)"
      ]
    },
    {
      "cell_type": "markdown",
      "metadata": {
        "id": "lRX3H-9FcFNg"
      },
      "source": [
        "### Convertir la cadena a minúsculas\n",
        "\n",
        "Esto puede ayudar a reducir el tamaño del vocabulario al tratar las palabras en mayúsculas y minúsculas como la misma palabra, lo que puede ayudar con algunas tareas de PLN, como la clasificación de texto y el análisis de sentimientos."
      ]
    },
    {
      "cell_type": "code",
      "execution_count": 4,
      "metadata": {
        "colab": {
          "base_uri": "https://localhost:8080/"
        },
        "id": "-7U1TE6dcNCO",
        "outputId": "0f9fe6e0-4a94-4c35-9af4-2bc8597e60bb"
      },
      "outputs": [
        {
          "output_type": "stream",
          "name": "stdout",
          "text": [
            "hola mundo del pln en este ejemplo vamos a desarrollar los conceptos básicos del procesamiento de texto que se utilizarán más adelante\n"
          ]
        }
      ],
      "source": [
        "texto_minusculas = texto_limpio.lower()\n",
        "print(texto_minusculas)"
      ]
    },
    {
      "cell_type": "markdown",
      "metadata": {
        "id": "uf42ug9BdMgi"
      },
      "source": [
        "### Segmentación de palabras\n",
        "\n",
        "Las palabras son como los átomos del lenguaje natural. Son la unidad de significado más pequeña que todavía tiene sentido por sí sola. Se conoce en inglés como `tokenizing by word`."
      ]
    },
    {
      "cell_type": "code",
      "execution_count": 5,
      "metadata": {
        "colab": {
          "base_uri": "https://localhost:8080/"
        },
        "id": "PMDGZso9d7h2",
        "outputId": "5bf2159e-2aee-4d10-b636-a7e0d330f01f"
      },
      "outputs": [
        {
          "output_type": "stream",
          "name": "stdout",
          "text": [
            "['hola', 'mundo', 'del', 'pln', 'en', 'este', 'ejemplo', 'vamos', 'a', 'desarrollar', 'los', 'conceptos', 'básicos', 'del', 'procesamiento', 'de', 'texto', 'que', 'se', 'utilizarán', 'más', 'adelante']\n"
          ]
        }
      ],
      "source": [
        "tokens = nltk.word_tokenize(texto_minusculas)\n",
        "print(tokens)"
      ]
    },
    {
      "cell_type": "markdown",
      "metadata": {
        "id": "yFwLvt-bf054"
      },
      "source": [
        "### Palabras vacías\n",
        "\n",
        "Las palabras vacías (`stop words`) son palabras que se pueden ignorar, por lo que se filtran del texto cuando se procesa, ya que no añaden mucho significado al texto en sí mismas."
      ]
    },
    {
      "cell_type": "code",
      "execution_count": 6,
      "metadata": {
        "colab": {
          "base_uri": "https://localhost:8080/"
        },
        "id": "oUuM3ZnfgGgd",
        "outputId": "88ff8692-2a82-4df3-c544-8140b99f1a17"
      },
      "outputs": [
        {
          "output_type": "stream",
          "name": "stdout",
          "text": [
            "['hola', 'mundo', 'pln', 'ejemplo', 'vamos', 'desarrollar', 'conceptos', 'básicos', 'procesamiento', 'texto', 'utilizarán', 'adelante']\n"
          ]
        },
        {
          "output_type": "stream",
          "name": "stderr",
          "text": [
            "[nltk_data] Downloading package stopwords to /root/nltk_data...\n",
            "[nltk_data]   Unzipping corpora/stopwords.zip.\n"
          ]
        }
      ],
      "source": [
        "nltk.download('stopwords')\n",
        "from nltk.corpus import stopwords\n",
        "\n",
        "stop_words = set(stopwords.words(\"spanish\"))\n",
        "tokens_limpios = [token for token in tokens if token not in stop_words]\n",
        "print(tokens_limpios)\n",
        "\n",
        "#tokens_limpios = []\n",
        "#for token in tokens:\n",
        "#  if token not in stop_words:\n",
        "#    tokens_limpios.append(token)"
      ]
    },
    {
      "cell_type": "markdown",
      "metadata": {
        "id": "ycaY8_XTkObl"
      },
      "source": [
        "### Stemming y lemmatization\n",
        "\n",
        "`Stemming` y `lemmatization` son métodos utilizados por el PLN para analizar el significado de una palabra. `Stemming` usa la raíz de la palabra, mientras que `lemmatization` usa el contexto en el que se usa la palabra.\n",
        "\n",
        "**Stemming**\n",
        "\n",
        "Stemming (derivación) es un proceso que deriva o elimina los últimos caracteres de una palabra, lo que a menudo conduce a significados y ortografía incorrectos.\n",
        "\n",
        "Por ejemplo, al derivar la palabra \"*Caring*\" se obtendría \"*Car*\".\n",
        "\n",
        "Stemming se utiliza en caso de conjuntos de datos grandes donde el rendimiento es un problema.\n",
        "\n",
        "**Lemmatization**\n",
        "\n",
        "Lemmatization considera el contexto y convierte la palabra a su forma base significativa, que se llama `Lemma`.\n",
        "\n",
        "Por ejemplo, lematizar la palabra \"*Caring*\" devolvería \"*Care*\".\n",
        "\n",
        "La lematización es computacionalmente costosa ya que implica una revisión detallada."
      ]
    },
    {
      "cell_type": "code",
      "execution_count": 7,
      "metadata": {
        "colab": {
          "base_uri": "https://localhost:8080/"
        },
        "id": "PAdrTcq1l4R_",
        "outputId": "abb9efc7-1cb8-4ee2-bc73-86b11a717261"
      },
      "outputs": [
        {
          "output_type": "stream",
          "name": "stdout",
          "text": [
            "['hola', 'mundo', 'pln', 'ejemplo', 'vamo', 'desarrollar', 'concepto', 'básico', 'procesamiento', 'texto', 'utilizarán', 'adelant']\n"
          ]
        },
        {
          "output_type": "stream",
          "name": "stderr",
          "text": [
            "[nltk_data] Downloading package wordnet to /root/nltk_data...\n"
          ]
        },
        {
          "output_type": "stream",
          "name": "stdout",
          "text": [
            "['hola', 'mundo', 'pln', 'ejemplo', 'vamos', 'desarrollar', 'conceptos', 'básicos', 'procesamiento', 'texto', 'utilizarán', 'adelante']\n"
          ]
        }
      ],
      "source": [
        "# stemming\n",
        "from nltk.stem import PorterStemmer\n",
        "stemmer = PorterStemmer()\n",
        "tokens_derivados = [stemmer.stem(token) for token in tokens_limpios]\n",
        "print(tokens_derivados)\n",
        "\n",
        "# lemmatizing\n",
        "nltk.download('wordnet')\n",
        "from nltk.stem import WordNetLemmatizer\n",
        "lemmatizer = WordNetLemmatizer()\n",
        "tokens_lematizados = [lemmatizer.lemmatize(token) for token in tokens_limpios]\n",
        "print(tokens_lematizados)"
      ]
    },
    {
      "cell_type": "markdown",
      "metadata": {
        "id": "kcizGWFLnYt7"
      },
      "source": [
        "Español"
      ]
    },
    {
      "cell_type": "code",
      "execution_count": 8,
      "metadata": {
        "colab": {
          "base_uri": "https://localhost:8080/",
          "height": 1000,
          "referenced_widgets": [
            "84173d0554a147deb942bed49a0d8bee",
            "0477899b68184b2fb67a781f7f3079ed",
            "d5d3ea861158463e94ab8954beab2823",
            "e875650bfc7f4852b99046e532d2a2d6",
            "50452453df0e4cc38f3844b4974cbec8",
            "2d0b67db06a44da38c47ebfa82b0e15e",
            "d659d9e7aded4851849c26064bb4d303",
            "af0781b62f534f4a8609d4d7b405f77e",
            "4e436649eabd485482856cc5cd9e4e9d",
            "48bdbdd7ba9146f99022b245a43f6cd7",
            "90b0dfddc4524fe985f05cb278b53bf0",
            "a939f1c1f4a94b1993b77f0564e56de4",
            "0aa4f49c01194e35ba07f82ce43ecafe",
            "b2ebb023584242f298ee98c766e9230d",
            "8603dc3da114420abf1a9c224554ea92",
            "4af41782193243b6a8ad85e07b2c5244",
            "717443423bc24e1bab0a1bf91c4a87a9",
            "027431634bf649cca746f4758557b399",
            "dd3c034c80c746bcb65b0481f640f3b6",
            "ce94ab13cde646d08d6be2aed1ad2a1d",
            "caa363f5ccc14f4aaba2707a0c0b0a20",
            "43fcd3bbcab84311bc98a08cade4f47a",
            "577e2a8e6fc24a9da807869a5296fbb8",
            "a3ec7937760e4bdc99b3b3d9e63376ad",
            "f7a5ee0b936245748dfabd4056d6e810",
            "5ca39ffccaea49b7b2b5991f6870c3f7",
            "9a56a9f8b2424b4c88d42d7a9b0b9a20",
            "dff4c30828ce40fbb10dcde2cb21eecd",
            "b7ccd531d8d344999ec31975275b7748",
            "726e8b557985461eb7342bc0c580d287",
            "cc5f0c40ca714efc85e456746b556efe",
            "18c8e05978774a49af99acfcf811343b",
            "713a534b69ec4626899a17c7eba97833"
          ]
        },
        "id": "mYpEltgAnaNH",
        "outputId": "6e9165a0-03e4-42dd-eba3-6f4b643da1d9"
      },
      "outputs": [
        {
          "output_type": "stream",
          "name": "stdout",
          "text": [
            "['hol', 'mund', 'pln', 'ejempl', 'vam', 'desarroll', 'concept', 'basic', 'proces', 'text', 'utiliz', 'adel']\n",
            "2023-11-22 15:48:31.124189: E tensorflow/compiler/xla/stream_executor/cuda/cuda_dnn.cc:9342] Unable to register cuDNN factory: Attempting to register factory for plugin cuDNN when one has already been registered\n",
            "2023-11-22 15:48:31.124268: E tensorflow/compiler/xla/stream_executor/cuda/cuda_fft.cc:609] Unable to register cuFFT factory: Attempting to register factory for plugin cuFFT when one has already been registered\n",
            "2023-11-22 15:48:31.124318: E tensorflow/compiler/xla/stream_executor/cuda/cuda_blas.cc:1518] Unable to register cuBLAS factory: Attempting to register factory for plugin cuBLAS when one has already been registered\n",
            "2023-11-22 15:48:32.026992: W tensorflow/compiler/tf2tensorrt/utils/py_utils.cc:38] TF-TRT Warning: Could not find TensorRT\n",
            "Collecting es-core-news-sm==3.6.0\n",
            "  Downloading https://github.com/explosion/spacy-models/releases/download/es_core_news_sm-3.6.0/es_core_news_sm-3.6.0-py3-none-any.whl (12.9 MB)\n",
            "\u001b[2K     \u001b[90m━━━━━━━━━━━━━━━━━━━━━━━━━━━━━━━━━━━━━━━━\u001b[0m \u001b[32m12.9/12.9 MB\u001b[0m \u001b[31m110.6 MB/s\u001b[0m eta \u001b[36m0:00:00\u001b[0m\n",
            "\u001b[?25hRequirement already satisfied: spacy<3.7.0,>=3.6.0 in /usr/local/lib/python3.10/dist-packages (from es-core-news-sm==3.6.0) (3.6.1)\n",
            "Requirement already satisfied: spacy-legacy<3.1.0,>=3.0.11 in /usr/local/lib/python3.10/dist-packages (from spacy<3.7.0,>=3.6.0->es-core-news-sm==3.6.0) (3.0.12)\n",
            "Requirement already satisfied: spacy-loggers<2.0.0,>=1.0.0 in /usr/local/lib/python3.10/dist-packages (from spacy<3.7.0,>=3.6.0->es-core-news-sm==3.6.0) (1.0.5)\n",
            "Requirement already satisfied: murmurhash<1.1.0,>=0.28.0 in /usr/local/lib/python3.10/dist-packages (from spacy<3.7.0,>=3.6.0->es-core-news-sm==3.6.0) (1.0.10)\n",
            "Requirement already satisfied: cymem<2.1.0,>=2.0.2 in /usr/local/lib/python3.10/dist-packages (from spacy<3.7.0,>=3.6.0->es-core-news-sm==3.6.0) (2.0.8)\n",
            "Requirement already satisfied: preshed<3.1.0,>=3.0.2 in /usr/local/lib/python3.10/dist-packages (from spacy<3.7.0,>=3.6.0->es-core-news-sm==3.6.0) (3.0.9)\n",
            "Requirement already satisfied: thinc<8.2.0,>=8.1.8 in /usr/local/lib/python3.10/dist-packages (from spacy<3.7.0,>=3.6.0->es-core-news-sm==3.6.0) (8.1.12)\n",
            "Requirement already satisfied: wasabi<1.2.0,>=0.9.1 in /usr/local/lib/python3.10/dist-packages (from spacy<3.7.0,>=3.6.0->es-core-news-sm==3.6.0) (1.1.2)\n",
            "Requirement already satisfied: srsly<3.0.0,>=2.4.3 in /usr/local/lib/python3.10/dist-packages (from spacy<3.7.0,>=3.6.0->es-core-news-sm==3.6.0) (2.4.8)\n",
            "Requirement already satisfied: catalogue<2.1.0,>=2.0.6 in /usr/local/lib/python3.10/dist-packages (from spacy<3.7.0,>=3.6.0->es-core-news-sm==3.6.0) (2.0.10)\n",
            "Requirement already satisfied: typer<0.10.0,>=0.3.0 in /usr/local/lib/python3.10/dist-packages (from spacy<3.7.0,>=3.6.0->es-core-news-sm==3.6.0) (0.9.0)\n",
            "Requirement already satisfied: pathy>=0.10.0 in /usr/local/lib/python3.10/dist-packages (from spacy<3.7.0,>=3.6.0->es-core-news-sm==3.6.0) (0.10.3)\n",
            "Requirement already satisfied: smart-open<7.0.0,>=5.2.1 in /usr/local/lib/python3.10/dist-packages (from spacy<3.7.0,>=3.6.0->es-core-news-sm==3.6.0) (6.4.0)\n",
            "Requirement already satisfied: tqdm<5.0.0,>=4.38.0 in /usr/local/lib/python3.10/dist-packages (from spacy<3.7.0,>=3.6.0->es-core-news-sm==3.6.0) (4.66.1)\n",
            "Requirement already satisfied: numpy>=1.15.0 in /usr/local/lib/python3.10/dist-packages (from spacy<3.7.0,>=3.6.0->es-core-news-sm==3.6.0) (1.23.5)\n",
            "Requirement already satisfied: requests<3.0.0,>=2.13.0 in /usr/local/lib/python3.10/dist-packages (from spacy<3.7.0,>=3.6.0->es-core-news-sm==3.6.0) (2.31.0)\n",
            "Requirement already satisfied: pydantic!=1.8,!=1.8.1,<3.0.0,>=1.7.4 in /usr/local/lib/python3.10/dist-packages (from spacy<3.7.0,>=3.6.0->es-core-news-sm==3.6.0) (1.10.13)\n",
            "Requirement already satisfied: jinja2 in /usr/local/lib/python3.10/dist-packages (from spacy<3.7.0,>=3.6.0->es-core-news-sm==3.6.0) (3.1.2)\n",
            "Requirement already satisfied: setuptools in /usr/local/lib/python3.10/dist-packages (from spacy<3.7.0,>=3.6.0->es-core-news-sm==3.6.0) (67.7.2)\n",
            "Requirement already satisfied: packaging>=20.0 in /usr/local/lib/python3.10/dist-packages (from spacy<3.7.0,>=3.6.0->es-core-news-sm==3.6.0) (23.2)\n",
            "Requirement already satisfied: langcodes<4.0.0,>=3.2.0 in /usr/local/lib/python3.10/dist-packages (from spacy<3.7.0,>=3.6.0->es-core-news-sm==3.6.0) (3.3.0)\n",
            "Requirement already satisfied: typing-extensions>=4.2.0 in /usr/local/lib/python3.10/dist-packages (from pydantic!=1.8,!=1.8.1,<3.0.0,>=1.7.4->spacy<3.7.0,>=3.6.0->es-core-news-sm==3.6.0) (4.5.0)\n",
            "Requirement already satisfied: charset-normalizer<4,>=2 in /usr/local/lib/python3.10/dist-packages (from requests<3.0.0,>=2.13.0->spacy<3.7.0,>=3.6.0->es-core-news-sm==3.6.0) (3.3.2)\n",
            "Requirement already satisfied: idna<4,>=2.5 in /usr/local/lib/python3.10/dist-packages (from requests<3.0.0,>=2.13.0->spacy<3.7.0,>=3.6.0->es-core-news-sm==3.6.0) (3.4)\n",
            "Requirement already satisfied: urllib3<3,>=1.21.1 in /usr/local/lib/python3.10/dist-packages (from requests<3.0.0,>=2.13.0->spacy<3.7.0,>=3.6.0->es-core-news-sm==3.6.0) (2.0.7)\n",
            "Requirement already satisfied: certifi>=2017.4.17 in /usr/local/lib/python3.10/dist-packages (from requests<3.0.0,>=2.13.0->spacy<3.7.0,>=3.6.0->es-core-news-sm==3.6.0) (2023.7.22)\n",
            "Requirement already satisfied: blis<0.8.0,>=0.7.8 in /usr/local/lib/python3.10/dist-packages (from thinc<8.2.0,>=8.1.8->spacy<3.7.0,>=3.6.0->es-core-news-sm==3.6.0) (0.7.11)\n",
            "Requirement already satisfied: confection<1.0.0,>=0.0.1 in /usr/local/lib/python3.10/dist-packages (from thinc<8.2.0,>=8.1.8->spacy<3.7.0,>=3.6.0->es-core-news-sm==3.6.0) (0.1.3)\n",
            "Requirement already satisfied: click<9.0.0,>=7.1.1 in /usr/local/lib/python3.10/dist-packages (from typer<0.10.0,>=0.3.0->spacy<3.7.0,>=3.6.0->es-core-news-sm==3.6.0) (8.1.7)\n",
            "Requirement already satisfied: MarkupSafe>=2.0 in /usr/local/lib/python3.10/dist-packages (from jinja2->spacy<3.7.0,>=3.6.0->es-core-news-sm==3.6.0) (2.1.3)\n",
            "Installing collected packages: es-core-news-sm\n",
            "Successfully installed es-core-news-sm-3.6.0\n",
            "\u001b[38;5;2m✔ Download and installation successful\u001b[0m\n",
            "You can now load the package via spacy.load('es_core_news_sm')\n",
            "['holar', 'mundo', 'pln', 'ejemplo', 'ir', 'desarrollar', 'concepto', 'básico', 'procesamiento', 'texto', 'utilizar', 'adelante']\n",
            "Collecting stanza\n",
            "  Downloading stanza-1.6.1-py3-none-any.whl (881 kB)\n",
            "\u001b[2K     \u001b[90m━━━━━━━━━━━━━━━━━━━━━━━━━━━━━━━━━━━━━━━━\u001b[0m \u001b[32m881.2/881.2 kB\u001b[0m \u001b[31m12.3 MB/s\u001b[0m eta \u001b[36m0:00:00\u001b[0m\n",
            "\u001b[?25hCollecting emoji (from stanza)\n",
            "  Downloading emoji-2.8.0-py2.py3-none-any.whl (358 kB)\n",
            "\u001b[2K     \u001b[90m━━━━━━━━━━━━━━━━━━━━━━━━━━━━━━━━━━━━━━━━\u001b[0m \u001b[32m358.9/358.9 kB\u001b[0m \u001b[31m43.0 MB/s\u001b[0m eta \u001b[36m0:00:00\u001b[0m\n",
            "\u001b[?25hRequirement already satisfied: numpy in /usr/local/lib/python3.10/dist-packages (from stanza) (1.23.5)\n",
            "Requirement already satisfied: protobuf>=3.15.0 in /usr/local/lib/python3.10/dist-packages (from stanza) (3.20.3)\n",
            "Requirement already satisfied: requests in /usr/local/lib/python3.10/dist-packages (from stanza) (2.31.0)\n",
            "Requirement already satisfied: torch>=1.3.0 in /usr/local/lib/python3.10/dist-packages (from stanza) (2.1.0+cu118)\n",
            "Requirement already satisfied: tqdm in /usr/local/lib/python3.10/dist-packages (from stanza) (4.66.1)\n",
            "Requirement already satisfied: filelock in /usr/local/lib/python3.10/dist-packages (from torch>=1.3.0->stanza) (3.13.1)\n",
            "Requirement already satisfied: typing-extensions in /usr/local/lib/python3.10/dist-packages (from torch>=1.3.0->stanza) (4.5.0)\n",
            "Requirement already satisfied: sympy in /usr/local/lib/python3.10/dist-packages (from torch>=1.3.0->stanza) (1.12)\n",
            "Requirement already satisfied: networkx in /usr/local/lib/python3.10/dist-packages (from torch>=1.3.0->stanza) (3.2.1)\n",
            "Requirement already satisfied: jinja2 in /usr/local/lib/python3.10/dist-packages (from torch>=1.3.0->stanza) (3.1.2)\n",
            "Requirement already satisfied: fsspec in /usr/local/lib/python3.10/dist-packages (from torch>=1.3.0->stanza) (2023.6.0)\n",
            "Requirement already satisfied: triton==2.1.0 in /usr/local/lib/python3.10/dist-packages (from torch>=1.3.0->stanza) (2.1.0)\n",
            "Requirement already satisfied: charset-normalizer<4,>=2 in /usr/local/lib/python3.10/dist-packages (from requests->stanza) (3.3.2)\n",
            "Requirement already satisfied: idna<4,>=2.5 in /usr/local/lib/python3.10/dist-packages (from requests->stanza) (3.4)\n",
            "Requirement already satisfied: urllib3<3,>=1.21.1 in /usr/local/lib/python3.10/dist-packages (from requests->stanza) (2.0.7)\n",
            "Requirement already satisfied: certifi>=2017.4.17 in /usr/local/lib/python3.10/dist-packages (from requests->stanza) (2023.7.22)\n",
            "Requirement already satisfied: MarkupSafe>=2.0 in /usr/local/lib/python3.10/dist-packages (from jinja2->torch>=1.3.0->stanza) (2.1.3)\n",
            "Requirement already satisfied: mpmath>=0.19 in /usr/local/lib/python3.10/dist-packages (from sympy->torch>=1.3.0->stanza) (1.3.0)\n",
            "Installing collected packages: emoji, stanza\n",
            "Successfully installed emoji-2.8.0 stanza-1.6.1\n"
          ]
        },
        {
          "output_type": "display_data",
          "data": {
            "text/plain": [
              "Downloading https://raw.githubusercontent.com/stanfordnlp/stanza-resources/main/resources_1.6.0.json:   0%|   …"
            ],
            "application/vnd.jupyter.widget-view+json": {
              "version_major": 2,
              "version_minor": 0,
              "model_id": "84173d0554a147deb942bed49a0d8bee"
            }
          },
          "metadata": {}
        },
        {
          "output_type": "stream",
          "name": "stderr",
          "text": [
            "INFO:stanza:Downloading default packages for language: es (Spanish) ...\n"
          ]
        },
        {
          "output_type": "display_data",
          "data": {
            "text/plain": [
              "Downloading https://huggingface.co/stanfordnlp/stanza-es/resolve/v1.6.0/models/default.zip:   0%|          | 0…"
            ],
            "application/vnd.jupyter.widget-view+json": {
              "version_major": 2,
              "version_minor": 0,
              "model_id": "a939f1c1f4a94b1993b77f0564e56de4"
            }
          },
          "metadata": {}
        },
        {
          "output_type": "stream",
          "name": "stderr",
          "text": [
            "INFO:stanza:Finished downloading models and saved to /root/stanza_resources.\n",
            "INFO:stanza:Checking for updates to resources.json in case models have been updated.  Note: this behavior can be turned off with download_method=None or download_method=DownloadMethod.REUSE_RESOURCES\n"
          ]
        },
        {
          "output_type": "display_data",
          "data": {
            "text/plain": [
              "Downloading https://raw.githubusercontent.com/stanfordnlp/stanza-resources/main/resources_1.6.0.json:   0%|   …"
            ],
            "application/vnd.jupyter.widget-view+json": {
              "version_major": 2,
              "version_minor": 0,
              "model_id": "577e2a8e6fc24a9da807869a5296fbb8"
            }
          },
          "metadata": {}
        },
        {
          "output_type": "stream",
          "name": "stderr",
          "text": [
            "INFO:stanza:Loading these models for language: es (Spanish):\n",
            "==================================\n",
            "| Processor    | Package         |\n",
            "----------------------------------\n",
            "| tokenize     | ancora          |\n",
            "| mwt          | ancora          |\n",
            "| pos          | ancora_charlm   |\n",
            "| lemma        | ancora_nocharlm |\n",
            "| constituency | combined_charlm |\n",
            "| depparse     | ancora_charlm   |\n",
            "| sentiment    | tass2020        |\n",
            "| ner          | conll02         |\n",
            "==================================\n",
            "\n",
            "INFO:stanza:Using device: cpu\n",
            "INFO:stanza:Loading: tokenize\n",
            "INFO:stanza:Loading: mwt\n",
            "INFO:stanza:Loading: pos\n",
            "INFO:stanza:Loading: lemma\n",
            "INFO:stanza:Loading: constituency\n",
            "INFO:stanza:Loading: depparse\n",
            "INFO:stanza:Loading: sentiment\n",
            "INFO:stanza:Loading: ner\n",
            "INFO:stanza:Done loading processors!\n"
          ]
        },
        {
          "output_type": "stream",
          "name": "stdout",
          "text": [
            "['holo', 'mundo', 'pln', 'ejemplo', 'ir', 'desarrollar', 'concepto', 'básico', 'procesamiento', 'texto', 'utilizar', 'adelante']\n"
          ]
        }
      ],
      "source": [
        "# stemming\n",
        "from nltk.stem import SnowballStemmer\n",
        "stemmer_espanol = SnowballStemmer('spanish')\n",
        "tokens_derivados = [stemmer_espanol.stem(token) for token in tokens_limpios]\n",
        "print(tokens_derivados)\n",
        "\n",
        "# lemmatizing\n",
        "import spacy\n",
        "!python -m spacy download es_core_news_sm\n",
        "nlp = spacy.load('es_core_news_sm')\n",
        "doc = nlp(' '.join(tokens_limpios))\n",
        "tokens_lematizados = [token.lemma_ for token in doc]\n",
        "print(tokens_lematizados)\n",
        "\n",
        "!pip install stanza\n",
        "import stanza\n",
        "stanza.download('es')\n",
        "nlp = stanza.Pipeline('es')\n",
        "doc = nlp(' '.join(tokens_limpios))\n",
        "tokens_lematizados = [word.lemma for sent in doc.sentences for word in sent.words]\n",
        "print(tokens_lematizados)"
      ]
    },
    {
      "cell_type": "markdown",
      "metadata": {
        "id": "2KaKASOdpeO-"
      },
      "source": [
        "**Inicial**\n",
        "\n",
        "['hola', 'mundo', 'nlp', 'ejemplo', 'vamos', 'desarrollar', 'conceptos', 'básicos', 'procesamiento', 'texto', 'utilizarán', 'adelante']\n",
        "\n",
        "**Spacy**\n",
        "\n",
        "['holar', 'mundo', 'nlp', 'ejemplo', 'ir', 'desarrollar', 'concepto', 'básico', 'procesamiento', 'texto', 'utilizar', 'adelante']\n",
        "\n",
        "**Stanza**\n",
        "\n",
        "['holo', 'mundo', 'nlp', 'ejemplo', 'ir', 'desarrollar', 'concepto', 'básico', 'procesamiento', 'texto', 'utilizar', 'adelante']"
      ]
    },
    {
      "cell_type": "markdown",
      "metadata": {
        "id": "WdBJmzkXrCU_"
      },
      "source": [
        "## Analizar el texto\n",
        "\n",
        "### Partes del discurso (Part-of-Speech tagging)\n",
        "\n",
        "Consiste en asignar a cada palabra en un texto su correspondiente categoría gramatical, como sustantivo, verbo, adjetivo, etc."
      ]
    },
    {
      "cell_type": "code",
      "execution_count": 9,
      "metadata": {
        "id": "ZAgGtIshpl8U",
        "colab": {
          "base_uri": "https://localhost:8080/"
        },
        "outputId": "67c1084e-70aa-4fb5-f68e-a4c382e172b7"
      },
      "outputs": [
        {
          "output_type": "stream",
          "name": "stderr",
          "text": [
            "[nltk_data] Downloading package cess_esp to /root/nltk_data...\n",
            "[nltk_data]   Unzipping corpora/cess_esp.zip.\n"
          ]
        },
        {
          "output_type": "stream",
          "name": "stdout",
          "text": [
            "[('hola', None), ('mundo', 'ncms000'), ('pln', None), ('ejemplo', 'ncms000'), ('vamos', 'vmip1p0'), ('desarrollar', 'vmn0000'), ('conceptos', 'ncmp000'), ('básicos', 'aq0mp0'), ('procesamiento', None), ('texto', 'ncms000'), ('utilizarán', 'vmif3p0'), ('adelante', 'rg')]\n"
          ]
        }
      ],
      "source": [
        "nltk.download('cess_esp')\n",
        "from nltk.corpus import cess_esp\n",
        "oraciones_cess = cess_esp.tagged_sents()\n",
        "etiquetador_unigram = nltk.UnigramTagger(oraciones_cess)\n",
        "\n",
        "etiquetas_pos = etiquetador_unigram.tag(tokens_limpios)\n",
        "print(etiquetas_pos)\n"
      ]
    },
    {
      "cell_type": "markdown",
      "metadata": {
        "id": "s0yqKpEcsk6N"
      },
      "source": [
        "**Descripción de las etiquetas**\n",
        "\n",
        "- `ncms000`:\n",
        "  - `nc` indica que es un sustantivo común (`nombre común`).\n",
        "  - `m` indica que es masculino.\n",
        "  - `s` indica que es singular.\n",
        "  - Los ceros (`000`) son rellenos y no aportan información adicional en este contexto.\n",
        "\n",
        "- `vmip1p0`:\n",
        "  - `vm` indica que es un verbo principal (`verbo`).\n",
        "  - `i` indica que es indicativo.\n",
        "  - `p` indica que es presente.\n",
        "  - `1p` indica que es de primera persona del plural.\n",
        "  - `0` es un relleno.\n",
        "\n",
        "- `vmn0000`:\n",
        "  - `vm` indica que es un verbo principal (`verbo`).\n",
        "  - `n` indica que es un infinitivo.\n",
        "  - Los ceros (`0000`) son rellenos.\n",
        "\n",
        "- `ncmp000`:\n",
        "  - `nc` indica que es un sustantivo común (`nombre común`).\n",
        "  - `mp` indica que es masculino plural.\n",
        "  - Los ceros (`000`) son rellenos.\n",
        "\n",
        "- `aq0mp0`:\n",
        "  - `aq` indica que es un adjetivo calificativo.\n",
        "  - `0` es un relleno que normalmente indica grado pero aquí no se aplica.\n",
        "  - `mp` indica que es masculino plural.\n",
        "  - `0` es un relleno al final.\n",
        "\n",
        "- `rg`:\n",
        "  - `rg` indica que es un adverbio general.\n",
        "\n",
        "Para un entendimiento detallado, buscar la documentación del corpus CESS-ESP."
      ]
    },
    {
      "cell_type": "code",
      "execution_count": 10,
      "metadata": {
        "id": "_CjD35mbslXD",
        "colab": {
          "base_uri": "https://localhost:8080/"
        },
        "outputId": "68a331cb-b3a7-4de7-d587-0cae224cc5f2"
      },
      "outputs": [
        {
          "output_type": "stream",
          "name": "stdout",
          "text": [
            "hola (None): Etiqueta no disponible\n",
            "mundo (ncms000): sustantivo común masculino singular\n",
            "pln (None): Etiqueta no disponible\n",
            "ejemplo (ncms000): sustantivo común masculino singular\n",
            "vamos (vmip1p0): verbo principal plural indicativo\n",
            "desarrollar (vmn0000): verbo principal infinitivo\n",
            "conceptos (ncmp000): sustantivo común masculino plural\n",
            "básicos (aq0mp0): adjetivo calificativo masculino plural\n",
            "procesamiento (None): Etiqueta no disponible\n",
            "texto (ncms000): sustantivo común masculino singular\n",
            "utilizarán (vmif3p0): verbo principal femenino plural indicativo\n",
            "adelante (rg): adverbio general \n"
          ]
        }
      ],
      "source": [
        "def interpretar_etiquetas(lista_etiquetas_pos):\n",
        "    descripcion_etiquetas = {\n",
        "        'nc': 'sustantivo común',\n",
        "        'vm': 'verbo principal',\n",
        "        'ncmp': 'sustantivo común masculino plural',\n",
        "        'aq': 'adjetivo calificativo',\n",
        "        'rg': 'adverbio general',\n",
        "    }\n",
        "\n",
        "    def interpretar_etiqueta(etiqueta):\n",
        "        if etiqueta is None:\n",
        "            return 'Etiqueta no disponible'\n",
        "\n",
        "        etiqueta_principal = ''.join([c for c in etiqueta if not c.isdigit()])\n",
        "        base = etiqueta_principal[:2]\n",
        "        morfologia = etiqueta_principal[2:]\n",
        "\n",
        "        interpretacion_base = descripcion_etiquetas.get(base, f'Etiqueta \"{base}\" no reconocida')\n",
        "\n",
        "        detalles_morfologicos = []\n",
        "        if 'm' in morfologia:\n",
        "            detalles_morfologicos.append('masculino')\n",
        "        if 'f' in morfologia:\n",
        "            detalles_morfologicos.append('femenino')\n",
        "        if 's' in morfologia:\n",
        "            detalles_morfologicos.append('singular')\n",
        "        if 'p' in morfologia:\n",
        "            detalles_morfologicos.append('plural')\n",
        "        if '1' in morfologia:\n",
        "            detalles_morfologicos.append('primera persona')\n",
        "        if '2' in morfologia:\n",
        "            detalles_morfologicos.append('segunda persona')\n",
        "        if '3' in morfologia:\n",
        "            detalles_morfologicos.append('tercera persona')\n",
        "        if 'i' in morfologia:\n",
        "            detalles_morfologicos.append('indicativo')\n",
        "        if 'n' in morfologia:\n",
        "            detalles_morfologicos.append('infinitivo')\n",
        "\n",
        "        interpretacion_completa = f'{interpretacion_base} ' + ' '.join(detalles_morfologicos)\n",
        "        return interpretacion_completa\n",
        "\n",
        "    interpretaciones = [(palabra, etiqueta, interpretar_etiqueta(etiqueta)) for palabra, etiqueta in lista_etiquetas_pos]\n",
        "    return interpretaciones\n",
        "\n",
        "interpretaciones = interpretar_etiquetas(etiquetas_pos)\n",
        "for palabra, etiqueta, interpretacion in interpretaciones:\n",
        "    print(f\"{palabra} ({etiqueta}): {interpretacion}\")\n"
      ]
    },
    {
      "cell_type": "markdown",
      "metadata": {
        "id": "UIqQwqUc4gIE"
      },
      "source": [
        "## Visualización"
      ]
    },
    {
      "cell_type": "code",
      "execution_count": 11,
      "metadata": {
        "id": "0lFbT0252uIY",
        "colab": {
          "base_uri": "https://localhost:8080/",
          "height": 422
        },
        "outputId": "09afb3ae-6465-41b8-93d7-4d8d6ac0a7d4"
      },
      "outputs": [
        {
          "output_type": "display_data",
          "data": {
            "text/plain": [
              "<Figure size 1000x500 with 1 Axes>"
            ],
            "image/png": "[encoded data removed]"
          },
          "metadata": {}
        }
      ],
      "source": [
        "import matplotlib.pyplot as plt\n",
        "from wordcloud import WordCloud\n",
        "\n",
        "texto_limpio = ' '.join(tokens_limpios)\n",
        "\n",
        "nube = WordCloud(width=800, height=400, background_color ='white').generate(texto_limpio)\n",
        "plt.figure(figsize=(10, 5))\n",
        "plt.imshow(nube, interpolation='bilinear')\n",
        "plt.axis('off')\n",
        "plt.show()"
      ]
    },
    {
      "cell_type": "markdown",
      "source": [
        "# Casos prácticos"
      ],
      "metadata": {
        "id": "k0KDofoTL5Hc"
      }
    },
    {
      "cell_type": "markdown",
      "source": [
        "## Corrector de ortografía\n",
        "\n",
        "Corrige textos en inglés basado en \"*la palabra más cercana*\".  Esta se refiere a la palabra que tiene la menor distancia de edición, también conocida como **distancia de Levenshtein**.\n",
        "\n",
        "La distancia de edición entre dos palabras es el número mínimo de operaciones necesarias para transformar una palabra en la otra. Las operaciones típicamente incluyen inserciones, eliminaciones y sustituciones de un solo carácter. Por ejemplo:\n",
        "\n",
        "- Palabra mal escrita: \"aplle\"\n",
        "  - \"apple\" - Distancia de edición: 1 (sustituir 'l' por 'p')\n",
        "  - \"apply\" - Distancia de edición: 2 (sustituir 'l' por 'p' y 'e' por 'y')\n",
        "\n",
        "En este ejemplo, la que tiene menor distancia de edición es \"apple\", por lo que sería la palabra usada por el corrector."
      ],
      "metadata": {
        "id": "zHUZ4PjUL8hb"
      }
    },
    {
      "cell_type": "code",
      "source": [
        "from nltk.corpus import words\n",
        "from nltk.metrics.distance import edit_distance\n",
        "from nltk.tokenize import word_tokenize\n",
        "\n",
        "nltk.download('words')\n",
        "\n",
        "# Palabras en inglés de NLTK\n",
        "corpus_ingles = set(p.lower() for p in words.words())\n",
        "\n",
        "# Función para encontrar la palabra más cercana\n",
        "def corrige_palabra(palabra, vocabulario=corpus_ingles, dist_max=2):\n",
        "    if palabra in vocabulario:\n",
        "        return palabra  # La palabra está correctamente escrita\n",
        "    palabras_cercanas = [p for p in vocabulario if edit_distance(p, palabra) <= dist_max]\n",
        "    if not palabras_cercanas:\n",
        "        return palabra\n",
        "    palabras_cercanas.sort(key=lambda p: (edit_distance(p, palabra), p))\n",
        "    return palabras_cercanas[0]\n",
        "\n",
        "# Función para corregir cada palabra en una frase\n",
        "def corrige_frase(frase, vocabulario=corpus_ingles, dist_max=2):\n",
        "    tokens = word_tokenize(frase)\n",
        "    frase_corregida = [corrige_palabra(p, vocabulario, dist_max) for p in tokens]\n",
        "    return ' '.join(frase_corregida)\n",
        "\n",
        "# Ejemplo de una frase con errores ortográficos\n",
        "frase_a_corregir = \"I havv goood speling\"\n",
        "\n",
        "# Corregir la frase\n",
        "frase_corregida = corrige_frase(frase_a_corregir)\n",
        "frase_corregida"
      ],
      "metadata": {
        "id": "OqffPJwYL_at",
        "colab": {
          "base_uri": "https://localhost:8080/",
          "height": 69
        },
        "outputId": "977ce6f2-bf0b-4745-f8db-39bb936180f9"
      },
      "execution_count": 12,
      "outputs": [
        {
          "output_type": "stream",
          "name": "stderr",
          "text": [
            "[nltk_data] Downloading package words to /root/nltk_data...\n",
            "[nltk_data]   Unzipping corpora/words.zip.\n"
          ]
        },
        {
          "output_type": "execute_result",
          "data": {
            "text/plain": [
              "'a harv good apeling'"
            ],
            "application/vnd.google.colaboratory.intrinsic+json": {
              "type": "string"
            }
          },
          "metadata": {},
          "execution_count": 12
        }
      ]
    },
    {
      "cell_type": "markdown",
      "source": [
        "Usando un modelo pre-entrenado."
      ],
      "metadata": {
        "id": "FMMi0P0gULWm"
      }
    },
    {
      "cell_type": "code",
      "source": [
        "!pip install textblob\n",
        "from textblob import TextBlob\n",
        "\n",
        "def corrige_frase(texto):\n",
        "    blob = TextBlob(texto)\n",
        "    texto_corregido = blob.correct()\n",
        "    return texto_corregido\n",
        "\n",
        "frase_a_corregir = \"I havv goood speling\"\n",
        "\n",
        "frase_corregida = corrige_frase(frase_a_corregir)\n",
        "frase_corregida\n"
      ],
      "metadata": {
        "id": "fcUQvGC6Rrro",
        "colab": {
          "base_uri": "https://localhost:8080/"
        },
        "outputId": "60b78b86-b679-4abc-8941-7fe3dadc525a"
      },
      "execution_count": 13,
      "outputs": [
        {
          "output_type": "stream",
          "name": "stdout",
          "text": [
            "Requirement already satisfied: textblob in /usr/local/lib/python3.10/dist-packages (0.17.1)\n",
            "Requirement already satisfied: nltk>=3.1 in /usr/local/lib/python3.10/dist-packages (from textblob) (3.8.1)\n",
            "Requirement already satisfied: click in /usr/local/lib/python3.10/dist-packages (from nltk>=3.1->textblob) (8.1.7)\n",
            "Requirement already satisfied: joblib in /usr/local/lib/python3.10/dist-packages (from nltk>=3.1->textblob) (1.3.2)\n",
            "Requirement already satisfied: regex>=2021.8.3 in /usr/local/lib/python3.10/dist-packages (from nltk>=3.1->textblob) (2023.6.3)\n",
            "Requirement already satisfied: tqdm in /usr/local/lib/python3.10/dist-packages (from nltk>=3.1->textblob) (4.66.1)\n"
          ]
        },
        {
          "output_type": "execute_result",
          "data": {
            "text/plain": [
              "TextBlob(\"I have good spelling\")"
            ]
          },
          "metadata": {},
          "execution_count": 13
        }
      ]
    }
  ],
  "metadata": {
    "colab": {
      "provenance": []
    },
    "kernelspec": {
      "display_name": "Python 3",
      "name": "python3"
    },
    "language_info": {
      "name": "python"
    },
    "widgets": {
      "application/vnd.jupyter.widget-state+json": {
        "84173d0554a147deb942bed49a0d8bee": {
          "model_module": "@jupyter-widgets/controls",
          "model_name": "HBoxModel",
          "model_module_version": "1.5.0",
          "state": {
            "_dom_classes": [],
            "_model_module": "@jupyter-widgets/controls",
            "_model_module_version": "1.5.0",
            "_model_name": "HBoxModel",
            "_view_count": null,
            "_view_module": "@jupyter-widgets/controls",
            "_view_module_version": "1.5.0",
            "_view_name": "HBoxView",
            "box_style": "",
            "children": [
              "IPY_MODEL_0477899b68184b2fb67a781f7f3079ed",
              "IPY_MODEL_d5d3ea861158463e94ab8954beab2823",
              "IPY_MODEL_e875650bfc7f4852b99046e532d2a2d6"
            ],
            "layout": "IPY_MODEL_50452453df0e4cc38f3844b4974cbec8"
          }
        },
        "0477899b68184b2fb67a781f7f3079ed": {
          "model_module": "@jupyter-widgets/controls",
          "model_name": "HTMLModel",
          "model_module_version": "1.5.0",
          "state": {
            "_dom_classes": [],
            "_model_module": "@jupyter-widgets/controls",
            "_model_module_version": "1.5.0",
            "_model_name": "HTMLModel",
            "_view_count": null,
            "_view_module": "@jupyter-widgets/controls",
            "_view_module_version": "1.5.0",
            "_view_name": "HTMLView",
            "description": "",
            "description_tooltip": null,
            "layout": "IPY_MODEL_2d0b67db06a44da38c47ebfa82b0e15e",
            "placeholder": "​",
            "style": "IPY_MODEL_d659d9e7aded4851849c26064bb4d303",
            "value": "Downloading https://raw.githubusercontent.com/stanfordnlp/stanza-resources/main/resources_1.6.0.json: "
          }
        },
        "d5d3ea861158463e94ab8954beab2823": {
          "model_module": "@jupyter-widgets/controls",
          "model_name": "FloatProgressModel",
          "model_module_version": "1.5.0",
          "state": {
            "_dom_classes": [],
            "_model_module": "@jupyter-widgets/controls",
            "_model_module_version": "1.5.0",
            "_model_name": "FloatProgressModel",
            "_view_count": null,
            "_view_module": "@jupyter-widgets/controls",
            "_view_module_version": "1.5.0",
            "_view_name": "ProgressView",
            "bar_style": "success",
            "description": "",
            "description_tooltip": null,
            "layout": "IPY_MODEL_af0781b62f534f4a8609d4d7b405f77e",
            "max": 45744,
            "min": 0,
            "orientation": "horizontal",
            "style": "IPY_MODEL_4e436649eabd485482856cc5cd9e4e9d",
            "value": 45744
          }
        },
        "e875650bfc7f4852b99046e532d2a2d6": {
          "model_module": "@jupyter-widgets/controls",
          "model_name": "HTMLModel",
          "model_module_version": "1.5.0",
          "state": {
            "_dom_classes": [],
            "_model_module": "@jupyter-widgets/controls",
            "_model_module_version": "1.5.0",
            "_model_name": "HTMLModel",
            "_view_count": null,
            "_view_module": "@jupyter-widgets/controls",
            "_view_module_version": "1.5.0",
            "_view_name": "HTMLView",
            "description": "",
            "description_tooltip": null,
            "layout": "IPY_MODEL_48bdbdd7ba9146f99022b245a43f6cd7",
            "placeholder": "​",
            "style": "IPY_MODEL_90b0dfddc4524fe985f05cb278b53bf0",
            "value": " 367k/? [00:00&lt;00:00, 17.1MB/s]"
          }
        },
        "50452453df0e4cc38f3844b4974cbec8": {
          "model_module": "@jupyter-widgets/base",
          "model_name": "LayoutModel",
          "model_module_version": "1.2.0",
          "state": {
            "_model_module": "@jupyter-widgets/base",
            "_model_module_version": "1.2.0",
            "_model_name": "LayoutModel",
            "_view_count": null,
            "_view_module": "@jupyter-widgets/base",
            "_view_module_version": "1.2.0",
            "_view_name": "LayoutView",
            "align_content": null,
            "align_items": null,
            "align_self": null,
            "border": null,
            "bottom": null,
            "display": null,
            "flex": null,
            "flex_flow": null,
            "grid_area": null,
            "grid_auto_columns": null,
            "grid_auto_flow": null,
            "grid_auto_rows": null,
            "grid_column": null,
            "grid_gap": null,
            "grid_row": null,
            "grid_template_areas": null,
            "grid_template_columns": null,
            "grid_template_rows": null,
            "height": null,
            "justify_content": null,
            "justify_items": null,
            "left": null,
            "margin": null,
            "max_height": null,
            "max_width": null,
            "min_height": null,
            "min_width": null,
            "object_fit": null,
            "object_position": null,
            "order": null,
            "overflow": null,
            "overflow_x": null,
            "overflow_y": null,
            "padding": null,
            "right": null,
            "top": null,
            "visibility": null,
            "width": null
          }
        },
        "2d0b67db06a44da38c47ebfa82b0e15e": {
          "model_module": "@jupyter-widgets/base",
          "model_name": "LayoutModel",
          "model_module_version": "1.2.0",
          "state": {
            "_model_module": "@jupyter-widgets/base",
            "_model_module_version": "1.2.0",
            "_model_name": "LayoutModel",
            "_view_count": null,
            "_view_module": "@jupyter-widgets/base",
            "_view_module_version": "1.2.0",
            "_view_name": "LayoutView",
            "align_content": null,
            "align_items": null,
            "align_self": null,
            "border": null,
            "bottom": null,
            "display": null,
            "flex": null,
            "flex_flow": null,
            "grid_area": null,
            "grid_auto_columns": null,
            "grid_auto_flow": null,
            "grid_auto_rows": null,
            "grid_column": null,
            "grid_gap": null,
            "grid_row": null,
            "grid_template_areas": null,
            "grid_template_columns": null,
            "grid_template_rows": null,
            "height": null,
            "justify_content": null,
            "justify_items": null,
            "left": null,
            "margin": null,
            "max_height": null,
            "max_width": null,
            "min_height": null,
            "min_width": null,
            "object_fit": null,
            "object_position": null,
            "order": null,
            "overflow": null,
            "overflow_x": null,
            "overflow_y": null,
            "padding": null,
            "right": null,
            "top": null,
            "visibility": null,
            "width": null
          }
        },
        "d659d9e7aded4851849c26064bb4d303": {
          "model_module": "@jupyter-widgets/controls",
          "model_name": "DescriptionStyleModel",
          "model_module_version": "1.5.0",
          "state": {
            "_model_module": "@jupyter-widgets/controls",
            "_model_module_version": "1.5.0",
            "_model_name": "DescriptionStyleModel",
            "_view_count": null,
            "_view_module": "@jupyter-widgets/base",
            "_view_module_version": "1.2.0",
            "_view_name": "StyleView",
            "description_width": ""
          }
        },
        "af0781b62f534f4a8609d4d7b405f77e": {
          "model_module": "@jupyter-widgets/base",
          "model_name": "LayoutModel",
          "model_module_version": "1.2.0",
          "state": {
            "_model_module": "@jupyter-widgets/base",
            "_model_module_version": "1.2.0",
            "_model_name": "LayoutModel",
            "_view_count": null,
            "_view_module": "@jupyter-widgets/base",
            "_view_module_version": "1.2.0",
            "_view_name": "LayoutView",
            "align_content": null,
            "align_items": null,
            "align_self": null,
            "border": null,
            "bottom": null,
            "display": null,
            "flex": null,
            "flex_flow": null,
            "grid_area": null,
            "grid_auto_columns": null,
            "grid_auto_flow": null,
            "grid_auto_rows": null,
            "grid_column": null,
            "grid_gap": null,
            "grid_row": null,
            "grid_template_areas": null,
            "grid_template_columns": null,
            "grid_template_rows": null,
            "height": null,
            "justify_content": null,
            "justify_items": null,
            "left": null,
            "margin": null,
            "max_height": null,
            "max_width": null,
            "min_height": null,
            "min_width": null,
            "object_fit": null,
            "object_position": null,
            "order": null,
            "overflow": null,
            "overflow_x": null,
            "overflow_y": null,
            "padding": null,
            "right": null,
            "top": null,
            "visibility": null,
            "width": null
          }
        },
        "4e436649eabd485482856cc5cd9e4e9d": {
          "model_module": "@jupyter-widgets/controls",
          "model_name": "ProgressStyleModel",
          "model_module_version": "1.5.0",
          "state": {
            "_model_module": "@jupyter-widgets/controls",
            "_model_module_version": "1.5.0",
            "_model_name": "ProgressStyleModel",
            "_view_count": null,
            "_view_module": "@jupyter-widgets/base",
            "_view_module_version": "1.2.0",
            "_view_name": "StyleView",
            "bar_color": null,
            "description_width": ""
          }
        },
        "48bdbdd7ba9146f99022b245a43f6cd7": {
          "model_module": "@jupyter-widgets/base",
          "model_name": "LayoutModel",
          "model_module_version": "1.2.0",
          "state": {
            "_model_module": "@jupyter-widgets/base",
            "_model_module_version": "1.2.0",
            "_model_name": "LayoutModel",
            "_view_count": null,
            "_view_module": "@jupyter-widgets/base",
            "_view_module_version": "1.2.0",
            "_view_name": "LayoutView",
            "align_content": null,
            "align_items": null,
            "align_self": null,
            "border": null,
            "bottom": null,
            "display": null,
            "flex": null,
            "flex_flow": null,
            "grid_area": null,
            "grid_auto_columns": null,
            "grid_auto_flow": null,
            "grid_auto_rows": null,
            "grid_column": null,
            "grid_gap": null,
            "grid_row": null,
            "grid_template_areas": null,
            "grid_template_columns": null,
            "grid_template_rows": null,
            "height": null,
            "justify_content": null,
            "justify_items": null,
            "left": null,
            "margin": null,
            "max_height": null,
            "max_width": null,
            "min_height": null,
            "min_width": null,
            "object_fit": null,
            "object_position": null,
            "order": null,
            "overflow": null,
            "overflow_x": null,
            "overflow_y": null,
            "padding": null,
            "right": null,
            "top": null,
            "visibility": null,
            "width": null
          }
        },
        "90b0dfddc4524fe985f05cb278b53bf0": {
          "model_module": "@jupyter-widgets/controls",
          "model_name": "DescriptionStyleModel",
          "model_module_version": "1.5.0",
          "state": {
            "_model_module": "@jupyter-widgets/controls",
            "_model_module_version": "1.5.0",
            "_model_name": "DescriptionStyleModel",
            "_view_count": null,
            "_view_module": "@jupyter-widgets/base",
            "_view_module_version": "1.2.0",
            "_view_name": "StyleView",
            "description_width": ""
          }
        },
        "a939f1c1f4a94b1993b77f0564e56de4": {
          "model_module": "@jupyter-widgets/controls",
          "model_name": "HBoxModel",
          "model_module_version": "1.5.0",
          "state": {
            "_dom_classes": [],
            "_model_module": "@jupyter-widgets/controls",
            "_model_module_version": "1.5.0",
            "_model_name": "HBoxModel",
            "_view_count": null,
            "_view_module": "@jupyter-widgets/controls",
            "_view_module_version": "1.5.0",
            "_view_name": "HBoxView",
            "box_style": "",
            "children": [
              "IPY_MODEL_0aa4f49c01194e35ba07f82ce43ecafe",
              "IPY_MODEL_b2ebb023584242f298ee98c766e9230d",
              "IPY_MODEL_8603dc3da114420abf1a9c224554ea92"
            ],
            "layout": "IPY_MODEL_4af41782193243b6a8ad85e07b2c5244"
          }
        },
        "0aa4f49c01194e35ba07f82ce43ecafe": {
          "model_module": "@jupyter-widgets/controls",
          "model_name": "HTMLModel",
          "model_module_version": "1.5.0",
          "state": {
            "_dom_classes": [],
            "_model_module": "@jupyter-widgets/controls",
            "_model_module_version": "1.5.0",
            "_model_name": "HTMLModel",
            "_view_count": null,
            "_view_module": "@jupyter-widgets/controls",
            "_view_module_version": "1.5.0",
            "_view_name": "HTMLView",
            "description": "",
            "description_tooltip": null,
            "layout": "IPY_MODEL_717443423bc24e1bab0a1bf91c4a87a9",
            "placeholder": "​",
            "style": "IPY_MODEL_027431634bf649cca746f4758557b399",
            "value": "Downloading https://huggingface.co/stanfordnlp/stanza-es/resolve/v1.6.0/models/default.zip: 100%"
          }
        },
        "b2ebb023584242f298ee98c766e9230d": {
          "model_module": "@jupyter-widgets/controls",
          "model_name": "FloatProgressModel",
          "model_module_version": "1.5.0",
          "state": {
            "_dom_classes": [],
            "_model_module": "@jupyter-widgets/controls",
            "_model_module_version": "1.5.0",
            "_model_name": "FloatProgressModel",
            "_view_count": null,
            "_view_module": "@jupyter-widgets/controls",
            "_view_module_version": "1.5.0",
            "_view_name": "ProgressView",
            "bar_style": "success",
            "description": "",
            "description_tooltip": null,
            "layout": "IPY_MODEL_dd3c034c80c746bcb65b0481f640f3b6",
            "max": 635435636,
            "min": 0,
            "orientation": "horizontal",
            "style": "IPY_MODEL_ce94ab13cde646d08d6be2aed1ad2a1d",
            "value": 635435636
          }
        },
        "8603dc3da114420abf1a9c224554ea92": {
          "model_module": "@jupyter-widgets/controls",
          "model_name": "HTMLModel",
          "model_module_version": "1.5.0",
          "state": {
            "_dom_classes": [],
            "_model_module": "@jupyter-widgets/controls",
            "_model_module_version": "1.5.0",
            "_model_name": "HTMLModel",
            "_view_count": null,
            "_view_module": "@jupyter-widgets/controls",
            "_view_module_version": "1.5.0",
            "_view_name": "HTMLView",
            "description": "",
            "description_tooltip": null,
            "layout": "IPY_MODEL_caa363f5ccc14f4aaba2707a0c0b0a20",
            "placeholder": "​",
            "style": "IPY_MODEL_43fcd3bbcab84311bc98a08cade4f47a",
            "value": " 635M/635M [00:15&lt;00:00, 40.8MB/s]"
          }
        },
        "4af41782193243b6a8ad85e07b2c5244": {
          "model_module": "@jupyter-widgets/base",
          "model_name": "LayoutModel",
          "model_module_version": "1.2.0",
          "state": {
            "_model_module": "@jupyter-widgets/base",
            "_model_module_version": "1.2.0",
            "_model_name": "LayoutModel",
            "_view_count": null,
            "_view_module": "@jupyter-widgets/base",
            "_view_module_version": "1.2.0",
            "_view_name": "LayoutView",
            "align_content": null,
            "align_items": null,
            "align_self": null,
            "border": null,
            "bottom": null,
            "display": null,
            "flex": null,
            "flex_flow": null,
            "grid_area": null,
            "grid_auto_columns": null,
            "grid_auto_flow": null,
            "grid_auto_rows": null,
            "grid_column": null,
            "grid_gap": null,
            "grid_row": null,
            "grid_template_areas": null,
            "grid_template_columns": null,
            "grid_template_rows": null,
            "height": null,
            "justify_content": null,
            "justify_items": null,
            "left": null,
            "margin": null,
            "max_height": null,
            "max_width": null,
            "min_height": null,
            "min_width": null,
            "object_fit": null,
            "object_position": null,
            "order": null,
            "overflow": null,
            "overflow_x": null,
            "overflow_y": null,
            "padding": null,
            "right": null,
            "top": null,
            "visibility": null,
            "width": null
          }
        },
        "717443423bc24e1bab0a1bf91c4a87a9": {
          "model_module": "@jupyter-widgets/base",
          "model_name": "LayoutModel",
          "model_module_version": "1.2.0",
          "state": {
            "_model_module": "@jupyter-widgets/base",
            "_model_module_version": "1.2.0",
            "_model_name": "LayoutModel",
            "_view_count": null,
            "_view_module": "@jupyter-widgets/base",
            "_view_module_version": "1.2.0",
            "_view_name": "LayoutView",
            "align_content": null,
            "align_items": null,
            "align_self": null,
            "border": null,
            "bottom": null,
            "display": null,
            "flex": null,
            "flex_flow": null,
            "grid_area": null,
            "grid_auto_columns": null,
            "grid_auto_flow": null,
            "grid_auto_rows": null,
            "grid_column": null,
            "grid_gap": null,
            "grid_row": null,
            "grid_template_areas": null,
            "grid_template_columns": null,
            "grid_template_rows": null,
            "height": null,
            "justify_content": null,
            "justify_items": null,
            "left": null,
            "margin": null,
            "max_height": null,
            "max_width": null,
            "min_height": null,
            "min_width": null,
            "object_fit": null,
            "object_position": null,
            "order": null,
            "overflow": null,
            "overflow_x": null,
            "overflow_y": null,
            "padding": null,
            "right": null,
            "top": null,
            "visibility": null,
            "width": null
          }
        },
        "027431634bf649cca746f4758557b399": {
          "model_module": "@jupyter-widgets/controls",
          "model_name": "DescriptionStyleModel",
          "model_module_version": "1.5.0",
          "state": {
            "_model_module": "@jupyter-widgets/controls",
            "_model_module_version": "1.5.0",
            "_model_name": "DescriptionStyleModel",
            "_view_count": null,
            "_view_module": "@jupyter-widgets/base",
            "_view_module_version": "1.2.0",
            "_view_name": "StyleView",
            "description_width": ""
          }
        },
        "dd3c034c80c746bcb65b0481f640f3b6": {
          "model_module": "@jupyter-widgets/base",
          "model_name": "LayoutModel",
          "model_module_version": "1.2.0",
          "state": {
            "_model_module": "@jupyter-widgets/base",
            "_model_module_version": "1.2.0",
            "_model_name": "LayoutModel",
            "_view_count": null,
            "_view_module": "@jupyter-widgets/base",
            "_view_module_version": "1.2.0",
            "_view_name": "LayoutView",
            "align_content": null,
            "align_items": null,
            "align_self": null,
            "border": null,
            "bottom": null,
            "display": null,
            "flex": null,
            "flex_flow": null,
            "grid_area": null,
            "grid_auto_columns": null,
            "grid_auto_flow": null,
            "grid_auto_rows": null,
            "grid_column": null,
            "grid_gap": null,
            "grid_row": null,
            "grid_template_areas": null,
            "grid_template_columns": null,
            "grid_template_rows": null,
            "height": null,
            "justify_content": null,
            "justify_items": null,
            "left": null,
            "margin": null,
            "max_height": null,
            "max_width": null,
            "min_height": null,
            "min_width": null,
            "object_fit": null,
            "object_position": null,
            "order": null,
            "overflow": null,
            "overflow_x": null,
            "overflow_y": null,
            "padding": null,
            "right": null,
            "top": null,
            "visibility": null,
            "width": null
          }
        },
        "ce94ab13cde646d08d6be2aed1ad2a1d": {
          "model_module": "@jupyter-widgets/controls",
          "model_name": "ProgressStyleModel",
          "model_module_version": "1.5.0",
          "state": {
            "_model_module": "@jupyter-widgets/controls",
            "_model_module_version": "1.5.0",
            "_model_name": "ProgressStyleModel",
            "_view_count": null,
            "_view_module": "@jupyter-widgets/base",
            "_view_module_version": "1.2.0",
            "_view_name": "StyleView",
            "bar_color": null,
            "description_width": ""
          }
        },
        "caa363f5ccc14f4aaba2707a0c0b0a20": {
          "model_module": "@jupyter-widgets/base",
          "model_name": "LayoutModel",
          "model_module_version": "1.2.0",
          "state": {
            "_model_module": "@jupyter-widgets/base",
            "_model_module_version": "1.2.0",
            "_model_name": "LayoutModel",
            "_view_count": null,
            "_view_module": "@jupyter-widgets/base",
            "_view_module_version": "1.2.0",
            "_view_name": "LayoutView",
            "align_content": null,
            "align_items": null,
            "align_self": null,
            "border": null,
            "bottom": null,
            "display": null,
            "flex": null,
            "flex_flow": null,
            "grid_area": null,
            "grid_auto_columns": null,
            "grid_auto_flow": null,
            "grid_auto_rows": null,
            "grid_column": null,
            "grid_gap": null,
            "grid_row": null,
            "grid_template_areas": null,
            "grid_template_columns": null,
            "grid_template_rows": null,
            "height": null,
            "justify_content": null,
            "justify_items": null,
            "left": null,
            "margin": null,
            "max_height": null,
            "max_width": null,
            "min_height": null,
            "min_width": null,
            "object_fit": null,
            "object_position": null,
            "order": null,
            "overflow": null,
            "overflow_x": null,
            "overflow_y": null,
            "padding": null,
            "right": null,
            "top": null,
            "visibility": null,
            "width": null
          }
        },
        "43fcd3bbcab84311bc98a08cade4f47a": {
          "model_module": "@jupyter-widgets/controls",
          "model_name": "DescriptionStyleModel",
          "model_module_version": "1.5.0",
          "state": {
            "_model_module": "@jupyter-widgets/controls",
            "_model_module_version": "1.5.0",
            "_model_name": "DescriptionStyleModel",
            "_view_count": null,
            "_view_module": "@jupyter-widgets/base",
            "_view_module_version": "1.2.0",
            "_view_name": "StyleView",
            "description_width": ""
          }
        },
        "577e2a8e6fc24a9da807869a5296fbb8": {
          "model_module": "@jupyter-widgets/controls",
          "model_name": "HBoxModel",
          "model_module_version": "1.5.0",
          "state": {
            "_dom_classes": [],
            "_model_module": "@jupyter-widgets/controls",
            "_model_module_version": "1.5.0",
            "_model_name": "HBoxModel",
            "_view_count": null,
            "_view_module": "@jupyter-widgets/controls",
            "_view_module_version": "1.5.0",
            "_view_name": "HBoxView",
            "box_style": "",
            "children": [
              "IPY_MODEL_a3ec7937760e4bdc99b3b3d9e63376ad",
              "IPY_MODEL_f7a5ee0b936245748dfabd4056d6e810",
              "IPY_MODEL_5ca39ffccaea49b7b2b5991f6870c3f7"
            ],
            "layout": "IPY_MODEL_9a56a9f8b2424b4c88d42d7a9b0b9a20"
          }
        },
        "a3ec7937760e4bdc99b3b3d9e63376ad": {
          "model_module": "@jupyter-widgets/controls",
          "model_name": "HTMLModel",
          "model_module_version": "1.5.0",
          "state": {
            "_dom_classes": [],
            "_model_module": "@jupyter-widgets/controls",
            "_model_module_version": "1.5.0",
            "_model_name": "HTMLModel",
            "_view_count": null,
            "_view_module": "@jupyter-widgets/controls",
            "_view_module_version": "1.5.0",
            "_view_name": "HTMLView",
            "description": "",
            "description_tooltip": null,
            "layout": "IPY_MODEL_dff4c30828ce40fbb10dcde2cb21eecd",
            "placeholder": "​",
            "style": "IPY_MODEL_b7ccd531d8d344999ec31975275b7748",
            "value": "Downloading https://raw.githubusercontent.com/stanfordnlp/stanza-resources/main/resources_1.6.0.json: "
          }
        },
        "f7a5ee0b936245748dfabd4056d6e810": {
          "model_module": "@jupyter-widgets/controls",
          "model_name": "FloatProgressModel",
          "model_module_version": "1.5.0",
          "state": {
            "_dom_classes": [],
            "_model_module": "@jupyter-widgets/controls",
            "_model_module_version": "1.5.0",
            "_model_name": "FloatProgressModel",
            "_view_count": null,
            "_view_module": "@jupyter-widgets/controls",
            "_view_module_version": "1.5.0",
            "_view_name": "ProgressView",
            "bar_style": "success",
            "description": "",
            "description_tooltip": null,
            "layout": "IPY_MODEL_726e8b557985461eb7342bc0c580d287",
            "max": 45744,
            "min": 0,
            "orientation": "horizontal",
            "style": "IPY_MODEL_cc5f0c40ca714efc85e456746b556efe",
            "value": 45744
          }
        },
        "5ca39ffccaea49b7b2b5991f6870c3f7": {
          "model_module": "@jupyter-widgets/controls",
          "model_name": "HTMLModel",
          "model_module_version": "1.5.0",
          "state": {
            "_dom_classes": [],
            "_model_module": "@jupyter-widgets/controls",
            "_model_module_version": "1.5.0",
            "_model_name": "HTMLModel",
            "_view_count": null,
            "_view_module": "@jupyter-widgets/controls",
            "_view_module_version": "1.5.0",
            "_view_name": "HTMLView",
            "description": "",
            "description_tooltip": null,
            "layout": "IPY_MODEL_18c8e05978774a49af99acfcf811343b",
            "placeholder": "​",
            "style": "IPY_MODEL_713a534b69ec4626899a17c7eba97833",
            "value": " 367k/? [00:00&lt;00:00, 15.3MB/s]"
          }
        },
        "9a56a9f8b2424b4c88d42d7a9b0b9a20": {
          "model_module": "@jupyter-widgets/base",
          "model_name": "LayoutModel",
          "model_module_version": "1.2.0",
          "state": {
            "_model_module": "@jupyter-widgets/base",
            "_model_module_version": "1.2.0",
            "_model_name": "LayoutModel",
            "_view_count": null,
            "_view_module": "@jupyter-widgets/base",
            "_view_module_version": "1.2.0",
            "_view_name": "LayoutView",
            "align_content": null,
            "align_items": null,
            "align_self": null,
            "border": null,
            "bottom": null,
            "display": null,
            "flex": null,
            "flex_flow": null,
            "grid_area": null,
            "grid_auto_columns": null,
            "grid_auto_flow": null,
            "grid_auto_rows": null,
            "grid_column": null,
            "grid_gap": null,
            "grid_row": null,
            "grid_template_areas": null,
            "grid_template_columns": null,
            "grid_template_rows": null,
            "height": null,
            "justify_content": null,
            "justify_items": null,
            "left": null,
            "margin": null,
            "max_height": null,
            "max_width": null,
            "min_height": null,
            "min_width": null,
            "object_fit": null,
            "object_position": null,
            "order": null,
            "overflow": null,
            "overflow_x": null,
            "overflow_y": null,
            "padding": null,
            "right": null,
            "top": null,
            "visibility": null,
            "width": null
          }
        },
        "dff4c30828ce40fbb10dcde2cb21eecd": {
          "model_module": "@jupyter-widgets/base",
          "model_name": "LayoutModel",
          "model_module_version": "1.2.0",
          "state": {
            "_model_module": "@jupyter-widgets/base",
            "_model_module_version": "1.2.0",
            "_model_name": "LayoutModel",
            "_view_count": null,
            "_view_module": "@jupyter-widgets/base",
            "_view_module_version": "1.2.0",
            "_view_name": "LayoutView",
            "align_content": null,
            "align_items": null,
            "align_self": null,
            "border": null,
            "bottom": null,
            "display": null,
            "flex": null,
            "flex_flow": null,
            "grid_area": null,
            "grid_auto_columns": null,
            "grid_auto_flow": null,
            "grid_auto_rows": null,
            "grid_column": null,
            "grid_gap": null,
            "grid_row": null,
            "grid_template_areas": null,
            "grid_template_columns": null,
            "grid_template_rows": null,
            "height": null,
            "justify_content": null,
            "justify_items": null,
            "left": null,
            "margin": null,
            "max_height": null,
            "max_width": null,
            "min_height": null,
            "min_width": null,
            "object_fit": null,
            "object_position": null,
            "order": null,
            "overflow": null,
            "overflow_x": null,
            "overflow_y": null,
            "padding": null,
            "right": null,
            "top": null,
            "visibility": null,
            "width": null
          }
        },
        "b7ccd531d8d344999ec31975275b7748": {
          "model_module": "@jupyter-widgets/controls",
          "model_name": "DescriptionStyleModel",
          "model_module_version": "1.5.0",
          "state": {
            "_model_module": "@jupyter-widgets/controls",
            "_model_module_version": "1.5.0",
            "_model_name": "DescriptionStyleModel",
            "_view_count": null,
            "_view_module": "@jupyter-widgets/base",
            "_view_module_version": "1.2.0",
            "_view_name": "StyleView",
            "description_width": ""
          }
        },
        "726e8b557985461eb7342bc0c580d287": {
          "model_module": "@jupyter-widgets/base",
          "model_name": "LayoutModel",
          "model_module_version": "1.2.0",
          "state": {
            "_model_module": "@jupyter-widgets/base",
            "_model_module_version": "1.2.0",
            "_model_name": "LayoutModel",
            "_view_count": null,
            "_view_module": "@jupyter-widgets/base",
            "_view_module_version": "1.2.0",
            "_view_name": "LayoutView",
            "align_content": null,
            "align_items": null,
            "align_self": null,
            "border": null,
            "bottom": null,
            "display": null,
            "flex": null,
            "flex_flow": null,
            "grid_area": null,
            "grid_auto_columns": null,
            "grid_auto_flow": null,
            "grid_auto_rows": null,
            "grid_column": null,
            "grid_gap": null,
            "grid_row": null,
            "grid_template_areas": null,
            "grid_template_columns": null,
            "grid_template_rows": null,
            "height": null,
            "justify_content": null,
            "justify_items": null,
            "left": null,
            "margin": null,
            "max_height": null,
            "max_width": null,
            "min_height": null,
            "min_width": null,
            "object_fit": null,
            "object_position": null,
            "order": null,
            "overflow": null,
            "overflow_x": null,
            "overflow_y": null,
            "padding": null,
            "right": null,
            "top": null,
            "visibility": null,
            "width": null
          }
        },
        "cc5f0c40ca714efc85e456746b556efe": {
          "model_module": "@jupyter-widgets/controls",
          "model_name": "ProgressStyleModel",
          "model_module_version": "1.5.0",
          "state": {
            "_model_module": "@jupyter-widgets/controls",
            "_model_module_version": "1.5.0",
            "_model_name": "ProgressStyleModel",
            "_view_count": null,
            "_view_module": "@jupyter-widgets/base",
            "_view_module_version": "1.2.0",
            "_view_name": "StyleView",
            "bar_color": null,
            "description_width": ""
          }
        },
        "18c8e05978774a49af99acfcf811343b": {
          "model_module": "@jupyter-widgets/base",
          "model_name": "LayoutModel",
          "model_module_version": "1.2.0",
          "state": {
            "_model_module": "@jupyter-widgets/base",
            "_model_module_version": "1.2.0",
            "_model_name": "LayoutModel",
            "_view_count": null,
            "_view_module": "@jupyter-widgets/base",
            "_view_module_version": "1.2.0",
            "_view_name": "LayoutView",
            "align_content": null,
            "align_items": null,
            "align_self": null,
            "border": null,
            "bottom": null,
            "display": null,
            "flex": null,
            "flex_flow": null,
            "grid_area": null,
            "grid_auto_columns": null,
            "grid_auto_flow": null,
            "grid_auto_rows": null,
            "grid_column": null,
            "grid_gap": null,
            "grid_row": null,
            "grid_template_areas": null,
            "grid_template_columns": null,
            "grid_template_rows": null,
            "height": null,
            "justify_content": null,
            "justify_items": null,
            "left": null,
            "margin": null,
            "max_height": null,
            "max_width": null,
            "min_height": null,
            "min_width": null,
            "object_fit": null,
            "object_position": null,
            "order": null,
            "overflow": null,
            "overflow_x": null,
            "overflow_y": null,
            "padding": null,
            "right": null,
            "top": null,
            "visibility": null,
            "width": null
          }
        },
        "713a534b69ec4626899a17c7eba97833": {
          "model_module": "@jupyter-widgets/controls",
          "model_name": "DescriptionStyleModel",
          "model_module_version": "1.5.0",
          "state": {
            "_model_module": "@jupyter-widgets/controls",
            "_model_module_version": "1.5.0",
            "_model_name": "DescriptionStyleModel",
            "_view_count": null,
            "_view_module": "@jupyter-widgets/base",
            "_view_module_version": "1.2.0",
            "_view_name": "StyleView",
            "description_width": ""
          }
        }
      }
    }
  },
  "nbformat": 4,
  "nbformat_minor": 0
}